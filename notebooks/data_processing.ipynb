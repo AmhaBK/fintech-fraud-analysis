{
 "cells": [
  {
   "cell_type": "code",
   "execution_count": 1,
   "id": "db200140",
   "metadata": {},
   "outputs": [],
   "source": [
    "# Standard imports\n",
    "import pandas as pd\n",
    "import numpy as np\n",
    "\n",
    "# Local module imports\n",
    "import sys\n",
    "import os\n",
    "sys.path.append(os.path.abspath('../'))\n",
    "\n",
    "from src.preprocessing.cleaning import handle_missing_values, remove_duplicates, convert_to_datetime\n",
    "from src.preprocessing.feature_engineering import extract_time_features, convert_ip_to_int, merge_ip_country\n",
    "from src.preprocessing.transform import encode_categorical, scale_features, handle_imbalance\n",
    "from src.preprocessing.utils import load_csv, save_csv\n"
   ]
  },
  {
   "cell_type": "code",
   "execution_count": null,
   "id": "cdc08839",
   "metadata": {},
   "outputs": [],
   "source": [
    "# Load raw data\n",
    "fraud_df = pd.read_csv('../data/raw/Fraud_Data.csv', parse_dates=['purchase_time', 'signup_time'])\n",
    "ip_map_df = load_csv('../data/raw/IpAddress_to_Country.csv')\n"
   ]
  },
  {
   "cell_type": "code",
   "execution_count": 7,
   "id": "7e4e25fe",
   "metadata": {},
   "outputs": [
    {
     "name": "stdout",
     "output_type": "stream",
     "text": [
      "   user_id         signup_time       purchase_time  purchase_value  \\\n",
      "0    22058 2015-02-24 22:55:49 2015-04-18 02:47:11              34   \n",
      "1   333320 2015-06-07 20:39:50 2015-06-08 01:38:54              16   \n",
      "2     1359 2015-01-01 18:52:44 2015-01-01 18:52:45              15   \n",
      "3   150084 2015-04-28 21:13:25 2015-05-04 13:54:50              44   \n",
      "4   221365 2015-07-21 07:09:52 2015-09-09 18:40:53              39   \n",
      "\n",
      "       device_id source browser sex  age    ip_address  class  \n",
      "0  QVPSPJUOCKZAR    SEO  Chrome   M   39  7.327584e+08      0  \n",
      "1  EOGFQPIZPYXFZ    Ads  Chrome   F   53  3.503114e+08      0  \n",
      "2  YSSKYOSJHPPLJ    SEO   Opera   M   53  2.621474e+09      1  \n",
      "3  ATGTXKYKUDUQN    SEO  Safari   M   41  3.840542e+09      0  \n",
      "4  NAUITBZFJKHWW    Ads  Safari   M   45  4.155831e+08      0  \n",
      "<class 'pandas.core.frame.DataFrame'>\n",
      "RangeIndex: 151112 entries, 0 to 151111\n",
      "Data columns (total 11 columns):\n",
      " #   Column          Non-Null Count   Dtype         \n",
      "---  ------          --------------   -----         \n",
      " 0   user_id         151112 non-null  int64         \n",
      " 1   signup_time     151112 non-null  datetime64[ns]\n",
      " 2   purchase_time   151112 non-null  datetime64[ns]\n",
      " 3   purchase_value  151112 non-null  int64         \n",
      " 4   device_id       151112 non-null  object        \n",
      " 5   source          151112 non-null  object        \n",
      " 6   browser         151112 non-null  object        \n",
      " 7   sex             151112 non-null  object        \n",
      " 8   age             151112 non-null  int64         \n",
      " 9   ip_address      151112 non-null  float64       \n",
      " 10  class           151112 non-null  int64         \n",
      "dtypes: datetime64[ns](2), float64(1), int64(4), object(4)\n",
      "memory usage: 12.7+ MB\n",
      "user_id           0\n",
      "signup_time       0\n",
      "purchase_time     0\n",
      "purchase_value    0\n",
      "device_id         0\n",
      "source            0\n",
      "browser           0\n",
      "sex               0\n",
      "age               0\n",
      "ip_address        0\n",
      "class             0\n",
      "dtype: int64\n"
     ]
    },
    {
     "data": {
      "application/vnd.microsoft.datawrangler.viewer.v0+json": {
       "columns": [
        {
         "name": "index",
         "rawType": "object",
         "type": "string"
        },
        {
         "name": "0",
         "rawType": "object",
         "type": "unknown"
        }
       ],
       "ref": "043b9dd1-5df4-44de-a52f-3a28e5c10e78",
       "rows": [
        [
         "user_id",
         "int64"
        ],
        [
         "signup_time",
         "datetime64[ns]"
        ],
        [
         "purchase_time",
         "datetime64[ns]"
        ],
        [
         "purchase_value",
         "int64"
        ],
        [
         "device_id",
         "object"
        ],
        [
         "source",
         "object"
        ],
        [
         "browser",
         "object"
        ],
        [
         "sex",
         "object"
        ],
        [
         "age",
         "int64"
        ],
        [
         "ip_address",
         "float64"
        ],
        [
         "class",
         "int64"
        ]
       ],
       "shape": {
        "columns": 1,
        "rows": 11
       }
      },
      "text/plain": [
       "user_id                    int64\n",
       "signup_time       datetime64[ns]\n",
       "purchase_time     datetime64[ns]\n",
       "purchase_value             int64\n",
       "device_id                 object\n",
       "source                    object\n",
       "browser                   object\n",
       "sex                       object\n",
       "age                        int64\n",
       "ip_address               float64\n",
       "class                      int64\n",
       "dtype: object"
      ]
     },
     "execution_count": 7,
     "metadata": {},
     "output_type": "execute_result"
    }
   ],
   "source": [
    "print(fraud_df.head())\n",
    "fraud_df.info()\n",
    "fraud_df.describe()\n",
    "print(fraud_df.isnull().sum())\n",
    "fraud_df.dtypes\n"
   ]
  },
  {
   "cell_type": "code",
   "execution_count": 6,
   "id": "c15e9368",
   "metadata": {},
   "outputs": [
    {
     "name": "stdout",
     "output_type": "stream",
     "text": [
      "lower_bound_ip_address    float64\n",
      "upper_bound_ip_address      int64\n",
      "country                    object\n",
      "dtype: object\n"
     ]
    }
   ],
   "source": [
    "print(ip_map_df.dtypes)"
   ]
  },
  {
   "cell_type": "code",
   "execution_count": 3,
   "id": "e2160130",
   "metadata": {},
   "outputs": [
    {
     "name": "stdout",
     "output_type": "stream",
     "text": [
      "class\n",
      "0    136961\n",
      "1     14151\n",
      "Name: count, dtype: int64\n"
     ]
    }
   ],
   "source": [
    "print(fraud_df['class'].value_counts())"
   ]
  },
  {
   "cell_type": "code",
   "execution_count": 4,
   "id": "eef2b9c4",
   "metadata": {},
   "outputs": [],
   "source": [
    "# Handle missing values\n",
    "fraud_df = handle_missing_values(fraud_df, strategy=\"drop\")\n",
    "\n",
    "# Remove duplicates\n",
    "fraud_df = remove_duplicates(fraud_df)"
   ]
  },
  {
   "cell_type": "code",
   "execution_count": 5,
   "id": "d1869108",
   "metadata": {},
   "outputs": [
    {
     "data": {
      "application/vnd.microsoft.datawrangler.viewer.v0+json": {
       "columns": [
        {
         "name": "index",
         "rawType": "int64",
         "type": "integer"
        },
        {
         "name": "hour_of_day",
         "rawType": "int32",
         "type": "integer"
        },
        {
         "name": "day_of_week",
         "rawType": "object",
         "type": "string"
        },
        {
         "name": "time_since_signup",
         "rawType": "float64",
         "type": "float"
        },
        {
         "name": "country",
         "rawType": "object",
         "type": "string"
        }
       ],
       "ref": "20d2ec43-68bd-43ab-87e6-0d78f5248731",
       "rows": [
        [
         "0",
         "2",
         "Saturday",
         "1251.8561111111112",
         "Japan"
        ],
        [
         "1",
         "1",
         "Monday",
         "4.984444444444445",
         "United States"
        ],
        [
         "2",
         "18",
         "Thursday",
         "0.0002777777777777778",
         "United States"
        ],
        [
         "3",
         "13",
         "Monday",
         "136.69027777777777",
         "Unknown"
        ],
        [
         "4",
         "18",
         "Wednesday",
         "1211.5169444444443",
         "United States"
        ]
       ],
       "shape": {
        "columns": 4,
        "rows": 5
       }
      },
      "text/html": [
       "<div>\n",
       "<style scoped>\n",
       "    .dataframe tbody tr th:only-of-type {\n",
       "        vertical-align: middle;\n",
       "    }\n",
       "\n",
       "    .dataframe tbody tr th {\n",
       "        vertical-align: top;\n",
       "    }\n",
       "\n",
       "    .dataframe thead th {\n",
       "        text-align: right;\n",
       "    }\n",
       "</style>\n",
       "<table border=\"1\" class=\"dataframe\">\n",
       "  <thead>\n",
       "    <tr style=\"text-align: right;\">\n",
       "      <th></th>\n",
       "      <th>hour_of_day</th>\n",
       "      <th>day_of_week</th>\n",
       "      <th>time_since_signup</th>\n",
       "      <th>country</th>\n",
       "    </tr>\n",
       "  </thead>\n",
       "  <tbody>\n",
       "    <tr>\n",
       "      <th>0</th>\n",
       "      <td>2</td>\n",
       "      <td>Saturday</td>\n",
       "      <td>1251.856111</td>\n",
       "      <td>Japan</td>\n",
       "    </tr>\n",
       "    <tr>\n",
       "      <th>1</th>\n",
       "      <td>1</td>\n",
       "      <td>Monday</td>\n",
       "      <td>4.984444</td>\n",
       "      <td>United States</td>\n",
       "    </tr>\n",
       "    <tr>\n",
       "      <th>2</th>\n",
       "      <td>18</td>\n",
       "      <td>Thursday</td>\n",
       "      <td>0.000278</td>\n",
       "      <td>United States</td>\n",
       "    </tr>\n",
       "    <tr>\n",
       "      <th>3</th>\n",
       "      <td>13</td>\n",
       "      <td>Monday</td>\n",
       "      <td>136.690278</td>\n",
       "      <td>Unknown</td>\n",
       "    </tr>\n",
       "    <tr>\n",
       "      <th>4</th>\n",
       "      <td>18</td>\n",
       "      <td>Wednesday</td>\n",
       "      <td>1211.516944</td>\n",
       "      <td>United States</td>\n",
       "    </tr>\n",
       "  </tbody>\n",
       "</table>\n",
       "</div>"
      ],
      "text/plain": [
       "   hour_of_day day_of_week  time_since_signup        country\n",
       "0            2    Saturday        1251.856111          Japan\n",
       "1            1      Monday           4.984444  United States\n",
       "2           18    Thursday           0.000278  United States\n",
       "3           13      Monday         136.690278        Unknown\n",
       "4           18   Wednesday        1211.516944  United States"
      ]
     },
     "execution_count": 5,
     "metadata": {},
     "output_type": "execute_result"
    }
   ],
   "source": [
    "# Time-based features\n",
    "fraud_df = extract_time_features(fraud_df, 'purchase_time', 'signup_time')\n",
    "\n",
    "# IP to integer\n",
    "fraud_df = convert_ip_to_int(fraud_df)\n",
    "\n",
    "# Convert IP bounds to integers in ip_map_df\n",
    "ip_map_df['lower_bound_ip_address'] = ip_map_df['lower_bound_ip_address'].apply(int)\n",
    "ip_map_df['upper_bound_ip_address'] = ip_map_df['upper_bound_ip_address'].apply(int)\n",
    "\n",
    "# Merge geolocation\n",
    "fraud_df = merge_ip_country(fraud_df, ip_map_df)\n",
    "\n",
    "# Check new features\n",
    "fraud_df[['hour_of_day', 'day_of_week', 'time_since_signup', 'country']].head()\n"
   ]
  },
  {
   "cell_type": "code",
   "execution_count": null,
   "id": "6393a225",
   "metadata": {},
   "outputs": [
    {
     "data": {
      "application/vnd.microsoft.datawrangler.viewer.v0+json": {
       "columns": [
        {
         "name": "index",
         "rawType": "int64",
         "type": "integer"
        },
        {
         "name": "user_id",
         "rawType": "int64",
         "type": "integer"
        },
        {
         "name": "signup_time",
         "rawType": "datetime64[ns]",
         "type": "datetime"
        },
        {
         "name": "purchase_time",
         "rawType": "datetime64[ns]",
         "type": "datetime"
        },
        {
         "name": "purchase_value",
         "rawType": "int64",
         "type": "integer"
        },
        {
         "name": "device_id",
         "rawType": "object",
         "type": "string"
        },
        {
         "name": "age",
         "rawType": "int64",
         "type": "integer"
        },
        {
         "name": "ip_address",
         "rawType": "float64",
         "type": "float"
        },
        {
         "name": "class",
         "rawType": "int64",
         "type": "integer"
        },
        {
         "name": "time_since_signup",
         "rawType": "float64",
         "type": "float"
        },
        {
         "name": "ip_int",
         "rawType": "int64",
         "type": "integer"
        },
        {
         "name": "source_Ads",
         "rawType": "float64",
         "type": "float"
        },
        {
         "name": "source_Direct",
         "rawType": "float64",
         "type": "float"
        },
        {
         "name": "source_SEO",
         "rawType": "float64",
         "type": "float"
        },
        {
         "name": "browser_Chrome",
         "rawType": "float64",
         "type": "float"
        },
        {
         "name": "browser_FireFox",
         "rawType": "float64",
         "type": "float"
        },
        {
         "name": "browser_IE",
         "rawType": "float64",
         "type": "float"
        },
        {
         "name": "browser_Opera",
         "rawType": "float64",
         "type": "float"
        },
        {
         "name": "browser_Safari",
         "rawType": "float64",
         "type": "float"
        },
        {
         "name": "sex_F",
         "rawType": "float64",
         "type": "float"
        },
        {
         "name": "sex_M",
         "rawType": "float64",
         "type": "float"
        },
        {
         "name": "country_Afghanistan",
         "rawType": "float64",
         "type": "float"
        },
        {
         "name": "country_Albania",
         "rawType": "float64",
         "type": "float"
        },
        {
         "name": "country_Algeria",
         "rawType": "float64",
         "type": "float"
        },
        {
         "name": "country_Angola",
         "rawType": "float64",
         "type": "float"
        },
        {
         "name": "country_Antigua and Barbuda",
         "rawType": "float64",
         "type": "float"
        },
        {
         "name": "country_Argentina",
         "rawType": "float64",
         "type": "float"
        },
        {
         "name": "country_Armenia",
         "rawType": "float64",
         "type": "float"
        },
        {
         "name": "country_Australia",
         "rawType": "float64",
         "type": "float"
        },
        {
         "name": "country_Austria",
         "rawType": "float64",
         "type": "float"
        },
        {
         "name": "country_Azerbaijan",
         "rawType": "float64",
         "type": "float"
        },
        {
         "name": "country_Bahamas",
         "rawType": "float64",
         "type": "float"
        },
        {
         "name": "country_Bahrain",
         "rawType": "float64",
         "type": "float"
        },
        {
         "name": "country_Bangladesh",
         "rawType": "float64",
         "type": "float"
        },
        {
         "name": "country_Barbados",
         "rawType": "float64",
         "type": "float"
        },
        {
         "name": "country_Belarus",
         "rawType": "float64",
         "type": "float"
        },
        {
         "name": "country_Belgium",
         "rawType": "float64",
         "type": "float"
        },
        {
         "name": "country_Belize",
         "rawType": "float64",
         "type": "float"
        },
        {
         "name": "country_Benin",
         "rawType": "float64",
         "type": "float"
        },
        {
         "name": "country_Bermuda",
         "rawType": "float64",
         "type": "float"
        },
        {
         "name": "country_Bhutan",
         "rawType": "float64",
         "type": "float"
        },
        {
         "name": "country_Bolivia",
         "rawType": "float64",
         "type": "float"
        },
        {
         "name": "country_Bonaire; Sint Eustatius; Saba",
         "rawType": "float64",
         "type": "float"
        },
        {
         "name": "country_Bosnia and Herzegowina",
         "rawType": "float64",
         "type": "float"
        },
        {
         "name": "country_Botswana",
         "rawType": "float64",
         "type": "float"
        },
        {
         "name": "country_Brazil",
         "rawType": "float64",
         "type": "float"
        },
        {
         "name": "country_British Indian Ocean Territory",
         "rawType": "float64",
         "type": "float"
        },
        {
         "name": "country_Brunei Darussalam",
         "rawType": "float64",
         "type": "float"
        },
        {
         "name": "country_Bulgaria",
         "rawType": "float64",
         "type": "float"
        },
        {
         "name": "country_Burkina Faso",
         "rawType": "float64",
         "type": "float"
        },
        {
         "name": "country_Burundi",
         "rawType": "float64",
         "type": "float"
        },
        {
         "name": "country_Cambodia",
         "rawType": "float64",
         "type": "float"
        },
        {
         "name": "country_Cameroon",
         "rawType": "float64",
         "type": "float"
        },
        {
         "name": "country_Canada",
         "rawType": "float64",
         "type": "float"
        },
        {
         "name": "country_Cape Verde",
         "rawType": "float64",
         "type": "float"
        },
        {
         "name": "country_Cayman Islands",
         "rawType": "float64",
         "type": "float"
        },
        {
         "name": "country_Chile",
         "rawType": "float64",
         "type": "float"
        },
        {
         "name": "country_China",
         "rawType": "float64",
         "type": "float"
        },
        {
         "name": "country_Colombia",
         "rawType": "float64",
         "type": "float"
        },
        {
         "name": "country_Congo",
         "rawType": "float64",
         "type": "float"
        },
        {
         "name": "country_Congo The Democratic Republic of The",
         "rawType": "float64",
         "type": "float"
        },
        {
         "name": "country_Costa Rica",
         "rawType": "float64",
         "type": "float"
        },
        {
         "name": "country_Cote D'ivoire",
         "rawType": "float64",
         "type": "float"
        },
        {
         "name": "country_Croatia (LOCAL Name: Hrvatska)",
         "rawType": "float64",
         "type": "float"
        },
        {
         "name": "country_Cuba",
         "rawType": "float64",
         "type": "float"
        },
        {
         "name": "country_Curacao",
         "rawType": "float64",
         "type": "float"
        },
        {
         "name": "country_Cyprus",
         "rawType": "float64",
         "type": "float"
        },
        {
         "name": "country_Czech Republic",
         "rawType": "float64",
         "type": "float"
        },
        {
         "name": "country_Denmark",
         "rawType": "float64",
         "type": "float"
        },
        {
         "name": "country_Djibouti",
         "rawType": "float64",
         "type": "float"
        },
        {
         "name": "country_Dominica",
         "rawType": "float64",
         "type": "float"
        },
        {
         "name": "country_Dominican Republic",
         "rawType": "float64",
         "type": "float"
        },
        {
         "name": "country_Ecuador",
         "rawType": "float64",
         "type": "float"
        },
        {
         "name": "country_Egypt",
         "rawType": "float64",
         "type": "float"
        },
        {
         "name": "country_El Salvador",
         "rawType": "float64",
         "type": "float"
        },
        {
         "name": "country_Estonia",
         "rawType": "float64",
         "type": "float"
        },
        {
         "name": "country_Ethiopia",
         "rawType": "float64",
         "type": "float"
        },
        {
         "name": "country_European Union",
         "rawType": "float64",
         "type": "float"
        },
        {
         "name": "country_Faroe Islands",
         "rawType": "float64",
         "type": "float"
        },
        {
         "name": "country_Fiji",
         "rawType": "float64",
         "type": "float"
        },
        {
         "name": "country_Finland",
         "rawType": "float64",
         "type": "float"
        },
        {
         "name": "country_France",
         "rawType": "float64",
         "type": "float"
        },
        {
         "name": "country_Gabon",
         "rawType": "float64",
         "type": "float"
        },
        {
         "name": "country_Gambia",
         "rawType": "float64",
         "type": "float"
        },
        {
         "name": "country_Georgia",
         "rawType": "float64",
         "type": "float"
        },
        {
         "name": "country_Germany",
         "rawType": "float64",
         "type": "float"
        },
        {
         "name": "country_Ghana",
         "rawType": "float64",
         "type": "float"
        },
        {
         "name": "country_Gibraltar",
         "rawType": "float64",
         "type": "float"
        },
        {
         "name": "country_Greece",
         "rawType": "float64",
         "type": "float"
        },
        {
         "name": "country_Guadeloupe",
         "rawType": "float64",
         "type": "float"
        },
        {
         "name": "country_Guam",
         "rawType": "float64",
         "type": "float"
        },
        {
         "name": "country_Guatemala",
         "rawType": "float64",
         "type": "float"
        },
        {
         "name": "country_Haiti",
         "rawType": "float64",
         "type": "float"
        },
        {
         "name": "country_Honduras",
         "rawType": "float64",
         "type": "float"
        },
        {
         "name": "country_Hong Kong",
         "rawType": "float64",
         "type": "float"
        },
        {
         "name": "country_Hungary",
         "rawType": "float64",
         "type": "float"
        },
        {
         "name": "country_Iceland",
         "rawType": "float64",
         "type": "float"
        },
        {
         "name": "country_India",
         "rawType": "float64",
         "type": "float"
        },
        {
         "name": "country_Indonesia",
         "rawType": "float64",
         "type": "float"
        },
        {
         "name": "country_Iran (ISLAMIC Republic Of)",
         "rawType": "float64",
         "type": "float"
        },
        {
         "name": "country_Iraq",
         "rawType": "float64",
         "type": "float"
        },
        {
         "name": "country_Ireland",
         "rawType": "float64",
         "type": "float"
        },
        {
         "name": "country_Israel",
         "rawType": "float64",
         "type": "float"
        },
        {
         "name": "country_Italy",
         "rawType": "float64",
         "type": "float"
        },
        {
         "name": "country_Jamaica",
         "rawType": "float64",
         "type": "float"
        },
        {
         "name": "country_Japan",
         "rawType": "float64",
         "type": "float"
        },
        {
         "name": "country_Jordan",
         "rawType": "float64",
         "type": "float"
        },
        {
         "name": "country_Kazakhstan",
         "rawType": "float64",
         "type": "float"
        },
        {
         "name": "country_Kenya",
         "rawType": "float64",
         "type": "float"
        },
        {
         "name": "country_Korea Republic of",
         "rawType": "float64",
         "type": "float"
        },
        {
         "name": "country_Kuwait",
         "rawType": "float64",
         "type": "float"
        },
        {
         "name": "country_Kyrgyzstan",
         "rawType": "float64",
         "type": "float"
        },
        {
         "name": "country_Lao People's Democratic Republic",
         "rawType": "float64",
         "type": "float"
        },
        {
         "name": "country_Latvia",
         "rawType": "float64",
         "type": "float"
        },
        {
         "name": "country_Lebanon",
         "rawType": "float64",
         "type": "float"
        },
        {
         "name": "country_Lesotho",
         "rawType": "float64",
         "type": "float"
        },
        {
         "name": "country_Libyan Arab Jamahiriya",
         "rawType": "float64",
         "type": "float"
        },
        {
         "name": "country_Liechtenstein",
         "rawType": "float64",
         "type": "float"
        },
        {
         "name": "country_Lithuania",
         "rawType": "float64",
         "type": "float"
        },
        {
         "name": "country_Luxembourg",
         "rawType": "float64",
         "type": "float"
        },
        {
         "name": "country_Macau",
         "rawType": "float64",
         "type": "float"
        },
        {
         "name": "country_Macedonia",
         "rawType": "float64",
         "type": "float"
        },
        {
         "name": "country_Madagascar",
         "rawType": "float64",
         "type": "float"
        },
        {
         "name": "country_Malawi",
         "rawType": "float64",
         "type": "float"
        },
        {
         "name": "country_Malaysia",
         "rawType": "float64",
         "type": "float"
        },
        {
         "name": "country_Maldives",
         "rawType": "float64",
         "type": "float"
        },
        {
         "name": "country_Malta",
         "rawType": "float64",
         "type": "float"
        },
        {
         "name": "country_Mauritius",
         "rawType": "float64",
         "type": "float"
        },
        {
         "name": "country_Mexico",
         "rawType": "float64",
         "type": "float"
        },
        {
         "name": "country_Moldova Republic of",
         "rawType": "float64",
         "type": "float"
        },
        {
         "name": "country_Monaco",
         "rawType": "float64",
         "type": "float"
        },
        {
         "name": "country_Mongolia",
         "rawType": "float64",
         "type": "float"
        },
        {
         "name": "country_Montenegro",
         "rawType": "float64",
         "type": "float"
        },
        {
         "name": "country_Morocco",
         "rawType": "float64",
         "type": "float"
        },
        {
         "name": "country_Mozambique",
         "rawType": "float64",
         "type": "float"
        },
        {
         "name": "country_Myanmar",
         "rawType": "float64",
         "type": "float"
        },
        {
         "name": "country_Namibia",
         "rawType": "float64",
         "type": "float"
        },
        {
         "name": "country_Nauru",
         "rawType": "float64",
         "type": "float"
        },
        {
         "name": "country_Nepal",
         "rawType": "float64",
         "type": "float"
        },
        {
         "name": "country_Netherlands",
         "rawType": "float64",
         "type": "float"
        },
        {
         "name": "country_New Caledonia",
         "rawType": "float64",
         "type": "float"
        },
        {
         "name": "country_New Zealand",
         "rawType": "float64",
         "type": "float"
        },
        {
         "name": "country_Nicaragua",
         "rawType": "float64",
         "type": "float"
        },
        {
         "name": "country_Niger",
         "rawType": "float64",
         "type": "float"
        },
        {
         "name": "country_Nigeria",
         "rawType": "float64",
         "type": "float"
        },
        {
         "name": "country_Norway",
         "rawType": "float64",
         "type": "float"
        },
        {
         "name": "country_Oman",
         "rawType": "float64",
         "type": "float"
        },
        {
         "name": "country_Pakistan",
         "rawType": "float64",
         "type": "float"
        },
        {
         "name": "country_Palestinian Territory Occupied",
         "rawType": "float64",
         "type": "float"
        },
        {
         "name": "country_Panama",
         "rawType": "float64",
         "type": "float"
        },
        {
         "name": "country_Papua New Guinea",
         "rawType": "float64",
         "type": "float"
        },
        {
         "name": "country_Paraguay",
         "rawType": "float64",
         "type": "float"
        },
        {
         "name": "country_Peru",
         "rawType": "float64",
         "type": "float"
        },
        {
         "name": "country_Philippines",
         "rawType": "float64",
         "type": "float"
        },
        {
         "name": "country_Poland",
         "rawType": "float64",
         "type": "float"
        },
        {
         "name": "country_Portugal",
         "rawType": "float64",
         "type": "float"
        },
        {
         "name": "country_Puerto Rico",
         "rawType": "float64",
         "type": "float"
        },
        {
         "name": "country_Qatar",
         "rawType": "float64",
         "type": "float"
        },
        {
         "name": "country_Reunion",
         "rawType": "float64",
         "type": "float"
        },
        {
         "name": "country_Romania",
         "rawType": "float64",
         "type": "float"
        },
        {
         "name": "country_Russian Federation",
         "rawType": "float64",
         "type": "float"
        },
        {
         "name": "country_Rwanda",
         "rawType": "float64",
         "type": "float"
        },
        {
         "name": "country_Saint Kitts and Nevis",
         "rawType": "float64",
         "type": "float"
        },
        {
         "name": "country_Saint Martin",
         "rawType": "float64",
         "type": "float"
        },
        {
         "name": "country_San Marino",
         "rawType": "float64",
         "type": "float"
        },
        {
         "name": "country_Saudi Arabia",
         "rawType": "float64",
         "type": "float"
        },
        {
         "name": "country_Senegal",
         "rawType": "float64",
         "type": "float"
        },
        {
         "name": "country_Serbia",
         "rawType": "float64",
         "type": "float"
        },
        {
         "name": "country_Seychelles",
         "rawType": "float64",
         "type": "float"
        },
        {
         "name": "country_Singapore",
         "rawType": "float64",
         "type": "float"
        },
        {
         "name": "country_Slovakia (SLOVAK Republic)",
         "rawType": "float64",
         "type": "float"
        },
        {
         "name": "country_Slovenia",
         "rawType": "float64",
         "type": "float"
        },
        {
         "name": "country_South Africa",
         "rawType": "float64",
         "type": "float"
        },
        {
         "name": "country_South Sudan",
         "rawType": "float64",
         "type": "float"
        },
        {
         "name": "country_Spain",
         "rawType": "float64",
         "type": "float"
        },
        {
         "name": "country_Sri Lanka",
         "rawType": "float64",
         "type": "float"
        },
        {
         "name": "country_Sudan",
         "rawType": "float64",
         "type": "float"
        },
        {
         "name": "country_Sweden",
         "rawType": "float64",
         "type": "float"
        },
        {
         "name": "country_Switzerland",
         "rawType": "float64",
         "type": "float"
        },
        {
         "name": "country_Syrian Arab Republic",
         "rawType": "float64",
         "type": "float"
        },
        {
         "name": "country_Taiwan; Republic of China (ROC)",
         "rawType": "float64",
         "type": "float"
        },
        {
         "name": "country_Tajikistan",
         "rawType": "float64",
         "type": "float"
        },
        {
         "name": "country_Tanzania United Republic of",
         "rawType": "float64",
         "type": "float"
        },
        {
         "name": "country_Thailand",
         "rawType": "float64",
         "type": "float"
        },
        {
         "name": "country_Trinidad and Tobago",
         "rawType": "float64",
         "type": "float"
        },
        {
         "name": "country_Tunisia",
         "rawType": "float64",
         "type": "float"
        },
        {
         "name": "country_Turkey",
         "rawType": "float64",
         "type": "float"
        },
        {
         "name": "country_Turkmenistan",
         "rawType": "float64",
         "type": "float"
        },
        {
         "name": "country_Uganda",
         "rawType": "float64",
         "type": "float"
        },
        {
         "name": "country_Ukraine",
         "rawType": "float64",
         "type": "float"
        },
        {
         "name": "country_United Arab Emirates",
         "rawType": "float64",
         "type": "float"
        },
        {
         "name": "country_United Kingdom",
         "rawType": "float64",
         "type": "float"
        },
        {
         "name": "country_United States",
         "rawType": "float64",
         "type": "float"
        },
        {
         "name": "country_Unknown",
         "rawType": "float64",
         "type": "float"
        },
        {
         "name": "country_Uruguay",
         "rawType": "float64",
         "type": "float"
        },
        {
         "name": "country_Uzbekistan",
         "rawType": "float64",
         "type": "float"
        },
        {
         "name": "country_Vanuatu",
         "rawType": "float64",
         "type": "float"
        },
        {
         "name": "country_Venezuela",
         "rawType": "float64",
         "type": "float"
        },
        {
         "name": "country_Viet Nam",
         "rawType": "float64",
         "type": "float"
        },
        {
         "name": "country_Virgin Islands (U.S.)",
         "rawType": "float64",
         "type": "float"
        },
        {
         "name": "country_Yemen",
         "rawType": "float64",
         "type": "float"
        },
        {
         "name": "country_Zambia",
         "rawType": "float64",
         "type": "float"
        },
        {
         "name": "country_Zimbabwe",
         "rawType": "float64",
         "type": "float"
        },
        {
         "name": "day_of_week_Friday",
         "rawType": "float64",
         "type": "float"
        },
        {
         "name": "day_of_week_Monday",
         "rawType": "float64",
         "type": "float"
        },
        {
         "name": "day_of_week_Saturday",
         "rawType": "float64",
         "type": "float"
        },
        {
         "name": "day_of_week_Sunday",
         "rawType": "float64",
         "type": "float"
        },
        {
         "name": "day_of_week_Thursday",
         "rawType": "float64",
         "type": "float"
        },
        {
         "name": "day_of_week_Tuesday",
         "rawType": "float64",
         "type": "float"
        },
        {
         "name": "day_of_week_Wednesday",
         "rawType": "float64",
         "type": "float"
        },
        {
         "name": "hour_of_day_0",
         "rawType": "float64",
         "type": "float"
        },
        {
         "name": "hour_of_day_1",
         "rawType": "float64",
         "type": "float"
        },
        {
         "name": "hour_of_day_2",
         "rawType": "float64",
         "type": "float"
        },
        {
         "name": "hour_of_day_3",
         "rawType": "float64",
         "type": "float"
        },
        {
         "name": "hour_of_day_4",
         "rawType": "float64",
         "type": "float"
        },
        {
         "name": "hour_of_day_5",
         "rawType": "float64",
         "type": "float"
        },
        {
         "name": "hour_of_day_6",
         "rawType": "float64",
         "type": "float"
        },
        {
         "name": "hour_of_day_7",
         "rawType": "float64",
         "type": "float"
        },
        {
         "name": "hour_of_day_8",
         "rawType": "float64",
         "type": "float"
        },
        {
         "name": "hour_of_day_9",
         "rawType": "float64",
         "type": "float"
        },
        {
         "name": "hour_of_day_10",
         "rawType": "float64",
         "type": "float"
        },
        {
         "name": "hour_of_day_11",
         "rawType": "float64",
         "type": "float"
        },
        {
         "name": "hour_of_day_12",
         "rawType": "float64",
         "type": "float"
        },
        {
         "name": "hour_of_day_13",
         "rawType": "float64",
         "type": "float"
        },
        {
         "name": "hour_of_day_14",
         "rawType": "float64",
         "type": "float"
        },
        {
         "name": "hour_of_day_15",
         "rawType": "float64",
         "type": "float"
        },
        {
         "name": "hour_of_day_16",
         "rawType": "float64",
         "type": "float"
        },
        {
         "name": "hour_of_day_17",
         "rawType": "float64",
         "type": "float"
        },
        {
         "name": "hour_of_day_18",
         "rawType": "float64",
         "type": "float"
        },
        {
         "name": "hour_of_day_19",
         "rawType": "float64",
         "type": "float"
        },
        {
         "name": "hour_of_day_20",
         "rawType": "float64",
         "type": "float"
        },
        {
         "name": "hour_of_day_21",
         "rawType": "float64",
         "type": "float"
        },
        {
         "name": "hour_of_day_22",
         "rawType": "float64",
         "type": "float"
        },
        {
         "name": "hour_of_day_23",
         "rawType": "float64",
         "type": "float"
        }
       ],
       "ref": "0a15a21b-625d-4cbf-855e-6abffbd5ccc3",
       "rows": [
        [
         "0",
         "22058",
         "2015-02-24 22:55:49",
         "2015-04-18 02:47:11",
         "34",
         "QVPSPJUOCKZAR",
         "39",
         "732758368.79972",
         "0",
         "1251.8561111111112",
         "732758368",
         "0.0",
         "0.0",
         "1.0",
         "1.0",
         "0.0",
         "0.0",
         "0.0",
         "0.0",
         "0.0",
         "1.0",
         "0.0",
         "0.0",
         "0.0",
         "0.0",
         "0.0",
         "0.0",
         "0.0",
         "0.0",
         "0.0",
         "0.0",
         "0.0",
         "0.0",
         "0.0",
         "0.0",
         "0.0",
         "0.0",
         "0.0",
         "0.0",
         "0.0",
         "0.0",
         "0.0",
         "0.0",
         "0.0",
         "0.0",
         "0.0",
         "0.0",
         "0.0",
         "0.0",
         "0.0",
         "0.0",
         "0.0",
         "0.0",
         "0.0",
         "0.0",
         "0.0",
         "0.0",
         "0.0",
         "0.0",
         "0.0",
         "0.0",
         "0.0",
         "0.0",
         "0.0",
         "0.0",
         "0.0",
         "0.0",
         "0.0",
         "0.0",
         "0.0",
         "0.0",
         "0.0",
         "0.0",
         "0.0",
         "0.0",
         "0.0",
         "0.0",
         "0.0",
         "0.0",
         "0.0",
         "0.0",
         "0.0",
         "0.0",
         "0.0",
         "0.0",
         "0.0",
         "0.0",
         "0.0",
         "0.0",
         "0.0",
         "0.0",
         "0.0",
         "0.0",
         "0.0",
         "0.0",
         "0.0",
         "0.0",
         "0.0",
         "0.0",
         "0.0",
         "0.0",
         "0.0",
         "0.0",
         "0.0",
         "0.0",
         "1.0",
         "0.0",
         "0.0",
         "0.0",
         "0.0",
         "0.0",
         "0.0",
         "0.0",
         "0.0",
         "0.0",
         "0.0",
         "0.0",
         "0.0",
         "0.0",
         "0.0",
         "0.0",
         "0.0",
         "0.0",
         "0.0",
         "0.0",
         "0.0",
         "0.0",
         "0.0",
         "0.0",
         "0.0",
         "0.0",
         "0.0",
         "0.0",
         "0.0",
         "0.0",
         "0.0",
         "0.0",
         "0.0",
         "0.0",
         "0.0",
         "0.0",
         "0.0",
         "0.0",
         "0.0",
         "0.0",
         "0.0",
         "0.0",
         "0.0",
         "0.0",
         "0.0",
         "0.0",
         "0.0",
         "0.0",
         "0.0",
         "0.0",
         "0.0",
         "0.0",
         "0.0",
         "0.0",
         "0.0",
         "0.0",
         "0.0",
         "0.0",
         "0.0",
         "0.0",
         "0.0",
         "0.0",
         "0.0",
         "0.0",
         "0.0",
         "0.0",
         "0.0",
         "0.0",
         "0.0",
         "0.0",
         "0.0",
         "0.0",
         "0.0",
         "0.0",
         "0.0",
         "0.0",
         "0.0",
         "0.0",
         "0.0",
         "0.0",
         "0.0",
         "0.0",
         "0.0",
         "0.0",
         "0.0",
         "0.0",
         "0.0",
         "0.0",
         "0.0",
         "0.0",
         "0.0",
         "0.0",
         "0.0",
         "0.0",
         "0.0",
         "0.0",
         "0.0",
         "0.0",
         "0.0",
         "0.0",
         "1.0",
         "0.0",
         "0.0",
         "0.0",
         "0.0",
         "0.0",
         "0.0",
         "1.0",
         "0.0",
         "0.0",
         "0.0",
         "0.0",
         "0.0",
         "0.0",
         "0.0",
         "0.0",
         "0.0",
         "0.0",
         "0.0",
         "0.0",
         "0.0",
         "0.0",
         "0.0",
         "0.0",
         "0.0",
         "0.0",
         "0.0",
         "0.0",
         "0.0"
        ],
        [
         "1",
         "333320",
         "2015-06-07 20:39:50",
         "2015-06-08 01:38:54",
         "16",
         "EOGFQPIZPYXFZ",
         "53",
         "350311387.865908",
         "0",
         "4.984444444444445",
         "350311387",
         "1.0",
         "0.0",
         "0.0",
         "1.0",
         "0.0",
         "0.0",
         "0.0",
         "0.0",
         "1.0",
         "0.0",
         "0.0",
         "0.0",
         "0.0",
         "0.0",
         "0.0",
         "0.0",
         "0.0",
         "0.0",
         "0.0",
         "0.0",
         "0.0",
         "0.0",
         "0.0",
         "0.0",
         "0.0",
         "0.0",
         "0.0",
         "0.0",
         "0.0",
         "0.0",
         "0.0",
         "0.0",
         "0.0",
         "0.0",
         "0.0",
         "0.0",
         "0.0",
         "0.0",
         "0.0",
         "0.0",
         "0.0",
         "0.0",
         "0.0",
         "0.0",
         "0.0",
         "0.0",
         "0.0",
         "0.0",
         "0.0",
         "0.0",
         "0.0",
         "0.0",
         "0.0",
         "0.0",
         "0.0",
         "0.0",
         "0.0",
         "0.0",
         "0.0",
         "0.0",
         "0.0",
         "0.0",
         "0.0",
         "0.0",
         "0.0",
         "0.0",
         "0.0",
         "0.0",
         "0.0",
         "0.0",
         "0.0",
         "0.0",
         "0.0",
         "0.0",
         "0.0",
         "0.0",
         "0.0",
         "0.0",
         "0.0",
         "0.0",
         "0.0",
         "0.0",
         "0.0",
         "0.0",
         "0.0",
         "0.0",
         "0.0",
         "0.0",
         "0.0",
         "0.0",
         "0.0",
         "0.0",
         "0.0",
         "0.0",
         "0.0",
         "0.0",
         "0.0",
         "0.0",
         "0.0",
         "0.0",
         "0.0",
         "0.0",
         "0.0",
         "0.0",
         "0.0",
         "0.0",
         "0.0",
         "0.0",
         "0.0",
         "0.0",
         "0.0",
         "0.0",
         "0.0",
         "0.0",
         "0.0",
         "0.0",
         "0.0",
         "0.0",
         "0.0",
         "0.0",
         "0.0",
         "0.0",
         "0.0",
         "0.0",
         "0.0",
         "0.0",
         "0.0",
         "0.0",
         "0.0",
         "0.0",
         "0.0",
         "0.0",
         "0.0",
         "0.0",
         "0.0",
         "0.0",
         "0.0",
         "0.0",
         "0.0",
         "0.0",
         "0.0",
         "0.0",
         "0.0",
         "0.0",
         "0.0",
         "0.0",
         "0.0",
         "0.0",
         "0.0",
         "0.0",
         "0.0",
         "0.0",
         "0.0",
         "0.0",
         "0.0",
         "0.0",
         "0.0",
         "0.0",
         "0.0",
         "0.0",
         "0.0",
         "0.0",
         "0.0",
         "0.0",
         "0.0",
         "0.0",
         "0.0",
         "0.0",
         "0.0",
         "0.0",
         "0.0",
         "0.0",
         "0.0",
         "0.0",
         "0.0",
         "0.0",
         "0.0",
         "0.0",
         "0.0",
         "0.0",
         "0.0",
         "1.0",
         "0.0",
         "0.0",
         "0.0",
         "0.0",
         "0.0",
         "0.0",
         "0.0",
         "0.0",
         "0.0",
         "0.0",
         "0.0",
         "1.0",
         "0.0",
         "0.0",
         "0.0",
         "0.0",
         "0.0",
         "0.0",
         "1.0",
         "0.0",
         "0.0",
         "0.0",
         "0.0",
         "0.0",
         "0.0",
         "0.0",
         "0.0",
         "0.0",
         "0.0",
         "0.0",
         "0.0",
         "0.0",
         "0.0",
         "0.0",
         "0.0",
         "0.0",
         "0.0",
         "0.0",
         "0.0",
         "0.0",
         "0.0"
        ],
        [
         "2",
         "1359",
         "2015-01-01 18:52:44",
         "2015-01-01 18:52:45",
         "15",
         "YSSKYOSJHPPLJ",
         "53",
         "2621473820.11095",
         "1",
         "0.0002777777777777778",
         "2621473820",
         "0.0",
         "0.0",
         "1.0",
         "0.0",
         "0.0",
         "0.0",
         "1.0",
         "0.0",
         "0.0",
         "1.0",
         "0.0",
         "0.0",
         "0.0",
         "0.0",
         "0.0",
         "0.0",
         "0.0",
         "0.0",
         "0.0",
         "0.0",
         "0.0",
         "0.0",
         "0.0",
         "0.0",
         "0.0",
         "0.0",
         "0.0",
         "0.0",
         "0.0",
         "0.0",
         "0.0",
         "0.0",
         "0.0",
         "0.0",
         "0.0",
         "0.0",
         "0.0",
         "0.0",
         "0.0",
         "0.0",
         "0.0",
         "0.0",
         "0.0",
         "0.0",
         "0.0",
         "0.0",
         "0.0",
         "0.0",
         "0.0",
         "0.0",
         "0.0",
         "0.0",
         "0.0",
         "0.0",
         "0.0",
         "0.0",
         "0.0",
         "0.0",
         "0.0",
         "0.0",
         "0.0",
         "0.0",
         "0.0",
         "0.0",
         "0.0",
         "0.0",
         "0.0",
         "0.0",
         "0.0",
         "0.0",
         "0.0",
         "0.0",
         "0.0",
         "0.0",
         "0.0",
         "0.0",
         "0.0",
         "0.0",
         "0.0",
         "0.0",
         "0.0",
         "0.0",
         "0.0",
         "0.0",
         "0.0",
         "0.0",
         "0.0",
         "0.0",
         "0.0",
         "0.0",
         "0.0",
         "0.0",
         "0.0",
         "0.0",
         "0.0",
         "0.0",
         "0.0",
         "0.0",
         "0.0",
         "0.0",
         "0.0",
         "0.0",
         "0.0",
         "0.0",
         "0.0",
         "0.0",
         "0.0",
         "0.0",
         "0.0",
         "0.0",
         "0.0",
         "0.0",
         "0.0",
         "0.0",
         "0.0",
         "0.0",
         "0.0",
         "0.0",
         "0.0",
         "0.0",
         "0.0",
         "0.0",
         "0.0",
         "0.0",
         "0.0",
         "0.0",
         "0.0",
         "0.0",
         "0.0",
         "0.0",
         "0.0",
         "0.0",
         "0.0",
         "0.0",
         "0.0",
         "0.0",
         "0.0",
         "0.0",
         "0.0",
         "0.0",
         "0.0",
         "0.0",
         "0.0",
         "0.0",
         "0.0",
         "0.0",
         "0.0",
         "0.0",
         "0.0",
         "0.0",
         "0.0",
         "0.0",
         "0.0",
         "0.0",
         "0.0",
         "0.0",
         "0.0",
         "0.0",
         "0.0",
         "0.0",
         "0.0",
         "0.0",
         "0.0",
         "0.0",
         "0.0",
         "0.0",
         "0.0",
         "0.0",
         "0.0",
         "0.0",
         "0.0",
         "0.0",
         "0.0",
         "0.0",
         "0.0",
         "0.0",
         "0.0",
         "0.0",
         "0.0",
         "0.0",
         "0.0",
         "1.0",
         "0.0",
         "0.0",
         "0.0",
         "0.0",
         "0.0",
         "0.0",
         "0.0",
         "0.0",
         "0.0",
         "0.0",
         "0.0",
         "0.0",
         "0.0",
         "0.0",
         "1.0",
         "0.0",
         "0.0",
         "0.0",
         "0.0",
         "0.0",
         "0.0",
         "0.0",
         "0.0",
         "0.0",
         "0.0",
         "0.0",
         "0.0",
         "0.0",
         "0.0",
         "0.0",
         "0.0",
         "0.0",
         "0.0",
         "0.0",
         "0.0",
         "1.0",
         "0.0",
         "0.0",
         "0.0",
         "0.0",
         "0.0"
        ],
        [
         "3",
         "150084",
         "2015-04-28 21:13:25",
         "2015-05-04 13:54:50",
         "44",
         "ATGTXKYKUDUQN",
         "41",
         "3840542443.91396",
         "0",
         "136.69027777777777",
         "3840542443",
         "0.0",
         "0.0",
         "1.0",
         "0.0",
         "0.0",
         "0.0",
         "0.0",
         "1.0",
         "0.0",
         "1.0",
         "0.0",
         "0.0",
         "0.0",
         "0.0",
         "0.0",
         "0.0",
         "0.0",
         "0.0",
         "0.0",
         "0.0",
         "0.0",
         "0.0",
         "0.0",
         "0.0",
         "0.0",
         "0.0",
         "0.0",
         "0.0",
         "0.0",
         "0.0",
         "0.0",
         "0.0",
         "0.0",
         "0.0",
         "0.0",
         "0.0",
         "0.0",
         "0.0",
         "0.0",
         "0.0",
         "0.0",
         "0.0",
         "0.0",
         "0.0",
         "0.0",
         "0.0",
         "0.0",
         "0.0",
         "0.0",
         "0.0",
         "0.0",
         "0.0",
         "0.0",
         "0.0",
         "0.0",
         "0.0",
         "0.0",
         "0.0",
         "0.0",
         "0.0",
         "0.0",
         "0.0",
         "0.0",
         "0.0",
         "0.0",
         "0.0",
         "0.0",
         "0.0",
         "0.0",
         "0.0",
         "0.0",
         "0.0",
         "0.0",
         "0.0",
         "0.0",
         "0.0",
         "0.0",
         "0.0",
         "0.0",
         "0.0",
         "0.0",
         "0.0",
         "0.0",
         "0.0",
         "0.0",
         "0.0",
         "0.0",
         "0.0",
         "0.0",
         "0.0",
         "0.0",
         "0.0",
         "0.0",
         "0.0",
         "0.0",
         "0.0",
         "0.0",
         "0.0",
         "0.0",
         "0.0",
         "0.0",
         "0.0",
         "0.0",
         "0.0",
         "0.0",
         "0.0",
         "0.0",
         "0.0",
         "0.0",
         "0.0",
         "0.0",
         "0.0",
         "0.0",
         "0.0",
         "0.0",
         "0.0",
         "0.0",
         "0.0",
         "0.0",
         "0.0",
         "0.0",
         "0.0",
         "0.0",
         "0.0",
         "0.0",
         "0.0",
         "0.0",
         "0.0",
         "0.0",
         "0.0",
         "0.0",
         "0.0",
         "0.0",
         "0.0",
         "0.0",
         "0.0",
         "0.0",
         "0.0",
         "0.0",
         "0.0",
         "0.0",
         "0.0",
         "0.0",
         "0.0",
         "0.0",
         "0.0",
         "0.0",
         "0.0",
         "0.0",
         "0.0",
         "0.0",
         "0.0",
         "0.0",
         "0.0",
         "0.0",
         "0.0",
         "0.0",
         "0.0",
         "0.0",
         "0.0",
         "0.0",
         "0.0",
         "0.0",
         "0.0",
         "0.0",
         "0.0",
         "0.0",
         "0.0",
         "0.0",
         "0.0",
         "0.0",
         "0.0",
         "0.0",
         "0.0",
         "0.0",
         "0.0",
         "0.0",
         "0.0",
         "0.0",
         "0.0",
         "0.0",
         "0.0",
         "1.0",
         "0.0",
         "0.0",
         "0.0",
         "0.0",
         "0.0",
         "0.0",
         "0.0",
         "0.0",
         "0.0",
         "0.0",
         "1.0",
         "0.0",
         "0.0",
         "0.0",
         "0.0",
         "0.0",
         "0.0",
         "0.0",
         "0.0",
         "0.0",
         "0.0",
         "0.0",
         "0.0",
         "0.0",
         "0.0",
         "0.0",
         "0.0",
         "0.0",
         "0.0",
         "1.0",
         "0.0",
         "0.0",
         "0.0",
         "0.0",
         "0.0",
         "0.0",
         "0.0",
         "0.0",
         "0.0",
         "0.0"
        ],
        [
         "4",
         "221365",
         "2015-07-21 07:09:52",
         "2015-09-09 18:40:53",
         "39",
         "NAUITBZFJKHWW",
         "45",
         "415583117.452712",
         "0",
         "1211.5169444444443",
         "415583117",
         "1.0",
         "0.0",
         "0.0",
         "0.0",
         "0.0",
         "0.0",
         "0.0",
         "1.0",
         "0.0",
         "1.0",
         "0.0",
         "0.0",
         "0.0",
         "0.0",
         "0.0",
         "0.0",
         "0.0",
         "0.0",
         "0.0",
         "0.0",
         "0.0",
         "0.0",
         "0.0",
         "0.0",
         "0.0",
         "0.0",
         "0.0",
         "0.0",
         "0.0",
         "0.0",
         "0.0",
         "0.0",
         "0.0",
         "0.0",
         "0.0",
         "0.0",
         "0.0",
         "0.0",
         "0.0",
         "0.0",
         "0.0",
         "0.0",
         "0.0",
         "0.0",
         "0.0",
         "0.0",
         "0.0",
         "0.0",
         "0.0",
         "0.0",
         "0.0",
         "0.0",
         "0.0",
         "0.0",
         "0.0",
         "0.0",
         "0.0",
         "0.0",
         "0.0",
         "0.0",
         "0.0",
         "0.0",
         "0.0",
         "0.0",
         "0.0",
         "0.0",
         "0.0",
         "0.0",
         "0.0",
         "0.0",
         "0.0",
         "0.0",
         "0.0",
         "0.0",
         "0.0",
         "0.0",
         "0.0",
         "0.0",
         "0.0",
         "0.0",
         "0.0",
         "0.0",
         "0.0",
         "0.0",
         "0.0",
         "0.0",
         "0.0",
         "0.0",
         "0.0",
         "0.0",
         "0.0",
         "0.0",
         "0.0",
         "0.0",
         "0.0",
         "0.0",
         "0.0",
         "0.0",
         "0.0",
         "0.0",
         "0.0",
         "0.0",
         "0.0",
         "0.0",
         "0.0",
         "0.0",
         "0.0",
         "0.0",
         "0.0",
         "0.0",
         "0.0",
         "0.0",
         "0.0",
         "0.0",
         "0.0",
         "0.0",
         "0.0",
         "0.0",
         "0.0",
         "0.0",
         "0.0",
         "0.0",
         "0.0",
         "0.0",
         "0.0",
         "0.0",
         "0.0",
         "0.0",
         "0.0",
         "0.0",
         "0.0",
         "0.0",
         "0.0",
         "0.0",
         "0.0",
         "0.0",
         "0.0",
         "0.0",
         "0.0",
         "0.0",
         "0.0",
         "0.0",
         "0.0",
         "0.0",
         "0.0",
         "0.0",
         "0.0",
         "0.0",
         "0.0",
         "0.0",
         "0.0",
         "0.0",
         "0.0",
         "0.0",
         "0.0",
         "0.0",
         "0.0",
         "0.0",
         "0.0",
         "0.0",
         "0.0",
         "0.0",
         "0.0",
         "0.0",
         "0.0",
         "0.0",
         "0.0",
         "0.0",
         "0.0",
         "0.0",
         "0.0",
         "0.0",
         "0.0",
         "0.0",
         "0.0",
         "0.0",
         "0.0",
         "0.0",
         "0.0",
         "0.0",
         "0.0",
         "1.0",
         "0.0",
         "0.0",
         "0.0",
         "0.0",
         "0.0",
         "0.0",
         "0.0",
         "0.0",
         "0.0",
         "0.0",
         "0.0",
         "0.0",
         "0.0",
         "0.0",
         "0.0",
         "0.0",
         "1.0",
         "0.0",
         "0.0",
         "0.0",
         "0.0",
         "0.0",
         "0.0",
         "0.0",
         "0.0",
         "0.0",
         "0.0",
         "0.0",
         "0.0",
         "0.0",
         "0.0",
         "0.0",
         "0.0",
         "0.0",
         "0.0",
         "1.0",
         "0.0",
         "0.0",
         "0.0",
         "0.0",
         "0.0"
        ]
       ],
       "shape": {
        "columns": 233,
        "rows": 5
       }
      },
      "text/html": [
       "<div>\n",
       "<style scoped>\n",
       "    .dataframe tbody tr th:only-of-type {\n",
       "        vertical-align: middle;\n",
       "    }\n",
       "\n",
       "    .dataframe tbody tr th {\n",
       "        vertical-align: top;\n",
       "    }\n",
       "\n",
       "    .dataframe thead th {\n",
       "        text-align: right;\n",
       "    }\n",
       "</style>\n",
       "<table border=\"1\" class=\"dataframe\">\n",
       "  <thead>\n",
       "    <tr style=\"text-align: right;\">\n",
       "      <th></th>\n",
       "      <th>user_id</th>\n",
       "      <th>signup_time</th>\n",
       "      <th>purchase_time</th>\n",
       "      <th>purchase_value</th>\n",
       "      <th>device_id</th>\n",
       "      <th>age</th>\n",
       "      <th>ip_address</th>\n",
       "      <th>class</th>\n",
       "      <th>time_since_signup</th>\n",
       "      <th>ip_int</th>\n",
       "      <th>...</th>\n",
       "      <th>hour_of_day_14</th>\n",
       "      <th>hour_of_day_15</th>\n",
       "      <th>hour_of_day_16</th>\n",
       "      <th>hour_of_day_17</th>\n",
       "      <th>hour_of_day_18</th>\n",
       "      <th>hour_of_day_19</th>\n",
       "      <th>hour_of_day_20</th>\n",
       "      <th>hour_of_day_21</th>\n",
       "      <th>hour_of_day_22</th>\n",
       "      <th>hour_of_day_23</th>\n",
       "    </tr>\n",
       "  </thead>\n",
       "  <tbody>\n",
       "    <tr>\n",
       "      <th>0</th>\n",
       "      <td>22058</td>\n",
       "      <td>2015-02-24 22:55:49</td>\n",
       "      <td>2015-04-18 02:47:11</td>\n",
       "      <td>34</td>\n",
       "      <td>QVPSPJUOCKZAR</td>\n",
       "      <td>39</td>\n",
       "      <td>7.327584e+08</td>\n",
       "      <td>0</td>\n",
       "      <td>1251.856111</td>\n",
       "      <td>732758368</td>\n",
       "      <td>...</td>\n",
       "      <td>0.0</td>\n",
       "      <td>0.0</td>\n",
       "      <td>0.0</td>\n",
       "      <td>0.0</td>\n",
       "      <td>0.0</td>\n",
       "      <td>0.0</td>\n",
       "      <td>0.0</td>\n",
       "      <td>0.0</td>\n",
       "      <td>0.0</td>\n",
       "      <td>0.0</td>\n",
       "    </tr>\n",
       "    <tr>\n",
       "      <th>1</th>\n",
       "      <td>333320</td>\n",
       "      <td>2015-06-07 20:39:50</td>\n",
       "      <td>2015-06-08 01:38:54</td>\n",
       "      <td>16</td>\n",
       "      <td>EOGFQPIZPYXFZ</td>\n",
       "      <td>53</td>\n",
       "      <td>3.503114e+08</td>\n",
       "      <td>0</td>\n",
       "      <td>4.984444</td>\n",
       "      <td>350311387</td>\n",
       "      <td>...</td>\n",
       "      <td>0.0</td>\n",
       "      <td>0.0</td>\n",
       "      <td>0.0</td>\n",
       "      <td>0.0</td>\n",
       "      <td>0.0</td>\n",
       "      <td>0.0</td>\n",
       "      <td>0.0</td>\n",
       "      <td>0.0</td>\n",
       "      <td>0.0</td>\n",
       "      <td>0.0</td>\n",
       "    </tr>\n",
       "    <tr>\n",
       "      <th>2</th>\n",
       "      <td>1359</td>\n",
       "      <td>2015-01-01 18:52:44</td>\n",
       "      <td>2015-01-01 18:52:45</td>\n",
       "      <td>15</td>\n",
       "      <td>YSSKYOSJHPPLJ</td>\n",
       "      <td>53</td>\n",
       "      <td>2.621474e+09</td>\n",
       "      <td>1</td>\n",
       "      <td>0.000278</td>\n",
       "      <td>2621473820</td>\n",
       "      <td>...</td>\n",
       "      <td>0.0</td>\n",
       "      <td>0.0</td>\n",
       "      <td>0.0</td>\n",
       "      <td>0.0</td>\n",
       "      <td>1.0</td>\n",
       "      <td>0.0</td>\n",
       "      <td>0.0</td>\n",
       "      <td>0.0</td>\n",
       "      <td>0.0</td>\n",
       "      <td>0.0</td>\n",
       "    </tr>\n",
       "    <tr>\n",
       "      <th>3</th>\n",
       "      <td>150084</td>\n",
       "      <td>2015-04-28 21:13:25</td>\n",
       "      <td>2015-05-04 13:54:50</td>\n",
       "      <td>44</td>\n",
       "      <td>ATGTXKYKUDUQN</td>\n",
       "      <td>41</td>\n",
       "      <td>3.840542e+09</td>\n",
       "      <td>0</td>\n",
       "      <td>136.690278</td>\n",
       "      <td>3840542443</td>\n",
       "      <td>...</td>\n",
       "      <td>0.0</td>\n",
       "      <td>0.0</td>\n",
       "      <td>0.0</td>\n",
       "      <td>0.0</td>\n",
       "      <td>0.0</td>\n",
       "      <td>0.0</td>\n",
       "      <td>0.0</td>\n",
       "      <td>0.0</td>\n",
       "      <td>0.0</td>\n",
       "      <td>0.0</td>\n",
       "    </tr>\n",
       "    <tr>\n",
       "      <th>4</th>\n",
       "      <td>221365</td>\n",
       "      <td>2015-07-21 07:09:52</td>\n",
       "      <td>2015-09-09 18:40:53</td>\n",
       "      <td>39</td>\n",
       "      <td>NAUITBZFJKHWW</td>\n",
       "      <td>45</td>\n",
       "      <td>4.155831e+08</td>\n",
       "      <td>0</td>\n",
       "      <td>1211.516944</td>\n",
       "      <td>415583117</td>\n",
       "      <td>...</td>\n",
       "      <td>0.0</td>\n",
       "      <td>0.0</td>\n",
       "      <td>0.0</td>\n",
       "      <td>0.0</td>\n",
       "      <td>1.0</td>\n",
       "      <td>0.0</td>\n",
       "      <td>0.0</td>\n",
       "      <td>0.0</td>\n",
       "      <td>0.0</td>\n",
       "      <td>0.0</td>\n",
       "    </tr>\n",
       "  </tbody>\n",
       "</table>\n",
       "<p>5 rows × 233 columns</p>\n",
       "</div>"
      ],
      "text/plain": [
       "   user_id         signup_time       purchase_time  purchase_value  \\\n",
       "0    22058 2015-02-24 22:55:49 2015-04-18 02:47:11              34   \n",
       "1   333320 2015-06-07 20:39:50 2015-06-08 01:38:54              16   \n",
       "2     1359 2015-01-01 18:52:44 2015-01-01 18:52:45              15   \n",
       "3   150084 2015-04-28 21:13:25 2015-05-04 13:54:50              44   \n",
       "4   221365 2015-07-21 07:09:52 2015-09-09 18:40:53              39   \n",
       "\n",
       "       device_id  age    ip_address  class  time_since_signup      ip_int  \\\n",
       "0  QVPSPJUOCKZAR   39  7.327584e+08      0        1251.856111   732758368   \n",
       "1  EOGFQPIZPYXFZ   53  3.503114e+08      0           4.984444   350311387   \n",
       "2  YSSKYOSJHPPLJ   53  2.621474e+09      1           0.000278  2621473820   \n",
       "3  ATGTXKYKUDUQN   41  3.840542e+09      0         136.690278  3840542443   \n",
       "4  NAUITBZFJKHWW   45  4.155831e+08      0        1211.516944   415583117   \n",
       "\n",
       "   ...  hour_of_day_14  hour_of_day_15  hour_of_day_16  hour_of_day_17  \\\n",
       "0  ...             0.0             0.0             0.0             0.0   \n",
       "1  ...             0.0             0.0             0.0             0.0   \n",
       "2  ...             0.0             0.0             0.0             0.0   \n",
       "3  ...             0.0             0.0             0.0             0.0   \n",
       "4  ...             0.0             0.0             0.0             0.0   \n",
       "\n",
       "   hour_of_day_18  hour_of_day_19  hour_of_day_20  hour_of_day_21  \\\n",
       "0             0.0             0.0             0.0             0.0   \n",
       "1             0.0             0.0             0.0             0.0   \n",
       "2             1.0             0.0             0.0             0.0   \n",
       "3             0.0             0.0             0.0             0.0   \n",
       "4             1.0             0.0             0.0             0.0   \n",
       "\n",
       "   hour_of_day_22  hour_of_day_23  \n",
       "0             0.0             0.0  \n",
       "1             0.0             0.0  \n",
       "2             0.0             0.0  \n",
       "3             0.0             0.0  \n",
       "4             0.0             0.0  \n",
       "\n",
       "[5 rows x 233 columns]"
      ]
     },
     "execution_count": 8,
     "metadata": {},
     "output_type": "execute_result"
    }
   ],
   "source": [
    "# Encoding categorical features\n",
    "categorical_cols = ['source', 'browser', 'sex', 'country', 'day_of_week', 'hour_of_day']\n",
    "fraud_df_encoded, encoder = encode_categorical(fraud_df, categorical_cols)\n",
    "\n",
    "# Preview\n",
    "fraud_df_encoded.head()"
   ]
  },
  {
   "cell_type": "code",
   "execution_count": 3,
   "id": "8de09791",
   "metadata": {},
   "outputs": [
    {
     "data": {
      "application/vnd.microsoft.datawrangler.viewer.v0+json": {
       "columns": [
        {
         "name": "class",
         "rawType": "int64",
         "type": "integer"
        },
        {
         "name": "count",
         "rawType": "int64",
         "type": "integer"
        }
       ],
       "ref": "917e38f9-69ea-4cb4-b642-c6a5fc7ddefa",
       "rows": [
        [
         "0",
         "109568"
        ],
        [
         "1",
         "109568"
        ]
       ],
       "shape": {
        "columns": 1,
        "rows": 2
       }
      },
      "text/plain": [
       "class\n",
       "0    109568\n",
       "1    109568\n",
       "Name: count, dtype: int64"
      ]
     },
     "execution_count": 3,
     "metadata": {},
     "output_type": "execute_result"
    }
   ],
   "source": [
    "from sklearn.model_selection import train_test_split\n",
    "\n",
    "# Separate features and target\n",
    "Xf = fraud_df_encoded.drop(columns=['class', 'user_id', 'device_id', 'ip_address', 'signup_time', 'purchase_time'])\n",
    "yf = fraud_df_encoded['class']\n",
    "\n",
    "Xf_train, Xf_test, yf_train, yf_test = train_test_split(\n",
    "    Xf, yf, test_size=0.2, stratify=yf, random_state=42\n",
    ")\n",
    "\n",
    "# Handle Class Imbalance (SMOTE)\n",
    "\n",
    "Xf_train_bal, yf_train_bal = handle_imbalance(Xf_train, yf_train)\n",
    "\n",
    "# Check new class distribution\n",
    "pd.Series(yf_train_bal).value_counts()\n"
   ]
  },
  {
   "cell_type": "code",
   "execution_count": 5,
   "id": "e35a9102",
   "metadata": {},
   "outputs": [
    {
     "data": {
      "application/vnd.microsoft.datawrangler.viewer.v0+json": {
       "columns": [
        {
         "name": "index",
         "rawType": "int64",
         "type": "integer"
        },
        {
         "name": "purchase_value",
         "rawType": "float64",
         "type": "float"
        },
        {
         "name": "age",
         "rawType": "float64",
         "type": "float"
        },
        {
         "name": "time_since_signup",
         "rawType": "float64",
         "type": "float"
        },
        {
         "name": "ip_int",
         "rawType": "float64",
         "type": "float"
        },
        {
         "name": "source_Ads",
         "rawType": "float64",
         "type": "float"
        },
        {
         "name": "source_Direct",
         "rawType": "float64",
         "type": "float"
        },
        {
         "name": "source_SEO",
         "rawType": "float64",
         "type": "float"
        },
        {
         "name": "browser_Chrome",
         "rawType": "float64",
         "type": "float"
        },
        {
         "name": "browser_FireFox",
         "rawType": "float64",
         "type": "float"
        },
        {
         "name": "browser_IE",
         "rawType": "float64",
         "type": "float"
        },
        {
         "name": "browser_Opera",
         "rawType": "float64",
         "type": "float"
        },
        {
         "name": "browser_Safari",
         "rawType": "float64",
         "type": "float"
        },
        {
         "name": "sex_F",
         "rawType": "float64",
         "type": "float"
        },
        {
         "name": "sex_M",
         "rawType": "float64",
         "type": "float"
        },
        {
         "name": "country_Afghanistan",
         "rawType": "float64",
         "type": "float"
        },
        {
         "name": "country_Albania",
         "rawType": "float64",
         "type": "float"
        },
        {
         "name": "country_Algeria",
         "rawType": "float64",
         "type": "float"
        },
        {
         "name": "country_Angola",
         "rawType": "float64",
         "type": "float"
        },
        {
         "name": "country_Antigua and Barbuda",
         "rawType": "float64",
         "type": "float"
        },
        {
         "name": "country_Argentina",
         "rawType": "float64",
         "type": "float"
        },
        {
         "name": "country_Armenia",
         "rawType": "float64",
         "type": "float"
        },
        {
         "name": "country_Australia",
         "rawType": "float64",
         "type": "float"
        },
        {
         "name": "country_Austria",
         "rawType": "float64",
         "type": "float"
        },
        {
         "name": "country_Azerbaijan",
         "rawType": "float64",
         "type": "float"
        },
        {
         "name": "country_Bahamas",
         "rawType": "float64",
         "type": "float"
        },
        {
         "name": "country_Bahrain",
         "rawType": "float64",
         "type": "float"
        },
        {
         "name": "country_Bangladesh",
         "rawType": "float64",
         "type": "float"
        },
        {
         "name": "country_Barbados",
         "rawType": "float64",
         "type": "float"
        },
        {
         "name": "country_Belarus",
         "rawType": "float64",
         "type": "float"
        },
        {
         "name": "country_Belgium",
         "rawType": "float64",
         "type": "float"
        },
        {
         "name": "country_Belize",
         "rawType": "float64",
         "type": "float"
        },
        {
         "name": "country_Benin",
         "rawType": "float64",
         "type": "float"
        },
        {
         "name": "country_Bermuda",
         "rawType": "float64",
         "type": "float"
        },
        {
         "name": "country_Bhutan",
         "rawType": "float64",
         "type": "float"
        },
        {
         "name": "country_Bolivia",
         "rawType": "float64",
         "type": "float"
        },
        {
         "name": "country_Bonaire; Sint Eustatius; Saba",
         "rawType": "float64",
         "type": "float"
        },
        {
         "name": "country_Bosnia and Herzegowina",
         "rawType": "float64",
         "type": "float"
        },
        {
         "name": "country_Botswana",
         "rawType": "float64",
         "type": "float"
        },
        {
         "name": "country_Brazil",
         "rawType": "float64",
         "type": "float"
        },
        {
         "name": "country_British Indian Ocean Territory",
         "rawType": "float64",
         "type": "float"
        },
        {
         "name": "country_Brunei Darussalam",
         "rawType": "float64",
         "type": "float"
        },
        {
         "name": "country_Bulgaria",
         "rawType": "float64",
         "type": "float"
        },
        {
         "name": "country_Burkina Faso",
         "rawType": "float64",
         "type": "float"
        },
        {
         "name": "country_Burundi",
         "rawType": "float64",
         "type": "float"
        },
        {
         "name": "country_Cambodia",
         "rawType": "float64",
         "type": "float"
        },
        {
         "name": "country_Cameroon",
         "rawType": "float64",
         "type": "float"
        },
        {
         "name": "country_Canada",
         "rawType": "float64",
         "type": "float"
        },
        {
         "name": "country_Cape Verde",
         "rawType": "float64",
         "type": "float"
        },
        {
         "name": "country_Cayman Islands",
         "rawType": "float64",
         "type": "float"
        },
        {
         "name": "country_Chile",
         "rawType": "float64",
         "type": "float"
        },
        {
         "name": "country_China",
         "rawType": "float64",
         "type": "float"
        },
        {
         "name": "country_Colombia",
         "rawType": "float64",
         "type": "float"
        },
        {
         "name": "country_Congo",
         "rawType": "float64",
         "type": "float"
        },
        {
         "name": "country_Congo The Democratic Republic of The",
         "rawType": "float64",
         "type": "float"
        },
        {
         "name": "country_Costa Rica",
         "rawType": "float64",
         "type": "float"
        },
        {
         "name": "country_Cote D'ivoire",
         "rawType": "float64",
         "type": "float"
        },
        {
         "name": "country_Croatia (LOCAL Name: Hrvatska)",
         "rawType": "float64",
         "type": "float"
        },
        {
         "name": "country_Cuba",
         "rawType": "float64",
         "type": "float"
        },
        {
         "name": "country_Curacao",
         "rawType": "float64",
         "type": "float"
        },
        {
         "name": "country_Cyprus",
         "rawType": "float64",
         "type": "float"
        },
        {
         "name": "country_Czech Republic",
         "rawType": "float64",
         "type": "float"
        },
        {
         "name": "country_Denmark",
         "rawType": "float64",
         "type": "float"
        },
        {
         "name": "country_Djibouti",
         "rawType": "float64",
         "type": "float"
        },
        {
         "name": "country_Dominica",
         "rawType": "float64",
         "type": "float"
        },
        {
         "name": "country_Dominican Republic",
         "rawType": "float64",
         "type": "float"
        },
        {
         "name": "country_Ecuador",
         "rawType": "float64",
         "type": "float"
        },
        {
         "name": "country_Egypt",
         "rawType": "float64",
         "type": "float"
        },
        {
         "name": "country_El Salvador",
         "rawType": "float64",
         "type": "float"
        },
        {
         "name": "country_Estonia",
         "rawType": "float64",
         "type": "float"
        },
        {
         "name": "country_Ethiopia",
         "rawType": "float64",
         "type": "float"
        },
        {
         "name": "country_European Union",
         "rawType": "float64",
         "type": "float"
        },
        {
         "name": "country_Faroe Islands",
         "rawType": "float64",
         "type": "float"
        },
        {
         "name": "country_Fiji",
         "rawType": "float64",
         "type": "float"
        },
        {
         "name": "country_Finland",
         "rawType": "float64",
         "type": "float"
        },
        {
         "name": "country_France",
         "rawType": "float64",
         "type": "float"
        },
        {
         "name": "country_Gabon",
         "rawType": "float64",
         "type": "float"
        },
        {
         "name": "country_Gambia",
         "rawType": "float64",
         "type": "float"
        },
        {
         "name": "country_Georgia",
         "rawType": "float64",
         "type": "float"
        },
        {
         "name": "country_Germany",
         "rawType": "float64",
         "type": "float"
        },
        {
         "name": "country_Ghana",
         "rawType": "float64",
         "type": "float"
        },
        {
         "name": "country_Gibraltar",
         "rawType": "float64",
         "type": "float"
        },
        {
         "name": "country_Greece",
         "rawType": "float64",
         "type": "float"
        },
        {
         "name": "country_Guadeloupe",
         "rawType": "float64",
         "type": "float"
        },
        {
         "name": "country_Guam",
         "rawType": "float64",
         "type": "float"
        },
        {
         "name": "country_Guatemala",
         "rawType": "float64",
         "type": "float"
        },
        {
         "name": "country_Haiti",
         "rawType": "float64",
         "type": "float"
        },
        {
         "name": "country_Honduras",
         "rawType": "float64",
         "type": "float"
        },
        {
         "name": "country_Hong Kong",
         "rawType": "float64",
         "type": "float"
        },
        {
         "name": "country_Hungary",
         "rawType": "float64",
         "type": "float"
        },
        {
         "name": "country_Iceland",
         "rawType": "float64",
         "type": "float"
        },
        {
         "name": "country_India",
         "rawType": "float64",
         "type": "float"
        },
        {
         "name": "country_Indonesia",
         "rawType": "float64",
         "type": "float"
        },
        {
         "name": "country_Iran (ISLAMIC Republic Of)",
         "rawType": "float64",
         "type": "float"
        },
        {
         "name": "country_Iraq",
         "rawType": "float64",
         "type": "float"
        },
        {
         "name": "country_Ireland",
         "rawType": "float64",
         "type": "float"
        },
        {
         "name": "country_Israel",
         "rawType": "float64",
         "type": "float"
        },
        {
         "name": "country_Italy",
         "rawType": "float64",
         "type": "float"
        },
        {
         "name": "country_Jamaica",
         "rawType": "float64",
         "type": "float"
        },
        {
         "name": "country_Japan",
         "rawType": "float64",
         "type": "float"
        },
        {
         "name": "country_Jordan",
         "rawType": "float64",
         "type": "float"
        },
        {
         "name": "country_Kazakhstan",
         "rawType": "float64",
         "type": "float"
        },
        {
         "name": "country_Kenya",
         "rawType": "float64",
         "type": "float"
        },
        {
         "name": "country_Korea Republic of",
         "rawType": "float64",
         "type": "float"
        },
        {
         "name": "country_Kuwait",
         "rawType": "float64",
         "type": "float"
        },
        {
         "name": "country_Kyrgyzstan",
         "rawType": "float64",
         "type": "float"
        },
        {
         "name": "country_Lao People's Democratic Republic",
         "rawType": "float64",
         "type": "float"
        },
        {
         "name": "country_Latvia",
         "rawType": "float64",
         "type": "float"
        },
        {
         "name": "country_Lebanon",
         "rawType": "float64",
         "type": "float"
        },
        {
         "name": "country_Lesotho",
         "rawType": "float64",
         "type": "float"
        },
        {
         "name": "country_Libyan Arab Jamahiriya",
         "rawType": "float64",
         "type": "float"
        },
        {
         "name": "country_Liechtenstein",
         "rawType": "float64",
         "type": "float"
        },
        {
         "name": "country_Lithuania",
         "rawType": "float64",
         "type": "float"
        },
        {
         "name": "country_Luxembourg",
         "rawType": "float64",
         "type": "float"
        },
        {
         "name": "country_Macau",
         "rawType": "float64",
         "type": "float"
        },
        {
         "name": "country_Macedonia",
         "rawType": "float64",
         "type": "float"
        },
        {
         "name": "country_Madagascar",
         "rawType": "float64",
         "type": "float"
        },
        {
         "name": "country_Malawi",
         "rawType": "float64",
         "type": "float"
        },
        {
         "name": "country_Malaysia",
         "rawType": "float64",
         "type": "float"
        },
        {
         "name": "country_Maldives",
         "rawType": "float64",
         "type": "float"
        },
        {
         "name": "country_Malta",
         "rawType": "float64",
         "type": "float"
        },
        {
         "name": "country_Mauritius",
         "rawType": "float64",
         "type": "float"
        },
        {
         "name": "country_Mexico",
         "rawType": "float64",
         "type": "float"
        },
        {
         "name": "country_Moldova Republic of",
         "rawType": "float64",
         "type": "float"
        },
        {
         "name": "country_Monaco",
         "rawType": "float64",
         "type": "float"
        },
        {
         "name": "country_Mongolia",
         "rawType": "float64",
         "type": "float"
        },
        {
         "name": "country_Montenegro",
         "rawType": "float64",
         "type": "float"
        },
        {
         "name": "country_Morocco",
         "rawType": "float64",
         "type": "float"
        },
        {
         "name": "country_Mozambique",
         "rawType": "float64",
         "type": "float"
        },
        {
         "name": "country_Myanmar",
         "rawType": "float64",
         "type": "float"
        },
        {
         "name": "country_Namibia",
         "rawType": "float64",
         "type": "float"
        },
        {
         "name": "country_Nauru",
         "rawType": "float64",
         "type": "float"
        },
        {
         "name": "country_Nepal",
         "rawType": "float64",
         "type": "float"
        },
        {
         "name": "country_Netherlands",
         "rawType": "float64",
         "type": "float"
        },
        {
         "name": "country_New Caledonia",
         "rawType": "float64",
         "type": "float"
        },
        {
         "name": "country_New Zealand",
         "rawType": "float64",
         "type": "float"
        },
        {
         "name": "country_Nicaragua",
         "rawType": "float64",
         "type": "float"
        },
        {
         "name": "country_Niger",
         "rawType": "float64",
         "type": "float"
        },
        {
         "name": "country_Nigeria",
         "rawType": "float64",
         "type": "float"
        },
        {
         "name": "country_Norway",
         "rawType": "float64",
         "type": "float"
        },
        {
         "name": "country_Oman",
         "rawType": "float64",
         "type": "float"
        },
        {
         "name": "country_Pakistan",
         "rawType": "float64",
         "type": "float"
        },
        {
         "name": "country_Palestinian Territory Occupied",
         "rawType": "float64",
         "type": "float"
        },
        {
         "name": "country_Panama",
         "rawType": "float64",
         "type": "float"
        },
        {
         "name": "country_Papua New Guinea",
         "rawType": "float64",
         "type": "float"
        },
        {
         "name": "country_Paraguay",
         "rawType": "float64",
         "type": "float"
        },
        {
         "name": "country_Peru",
         "rawType": "float64",
         "type": "float"
        },
        {
         "name": "country_Philippines",
         "rawType": "float64",
         "type": "float"
        },
        {
         "name": "country_Poland",
         "rawType": "float64",
         "type": "float"
        },
        {
         "name": "country_Portugal",
         "rawType": "float64",
         "type": "float"
        },
        {
         "name": "country_Puerto Rico",
         "rawType": "float64",
         "type": "float"
        },
        {
         "name": "country_Qatar",
         "rawType": "float64",
         "type": "float"
        },
        {
         "name": "country_Reunion",
         "rawType": "float64",
         "type": "float"
        },
        {
         "name": "country_Romania",
         "rawType": "float64",
         "type": "float"
        },
        {
         "name": "country_Russian Federation",
         "rawType": "float64",
         "type": "float"
        },
        {
         "name": "country_Rwanda",
         "rawType": "float64",
         "type": "float"
        },
        {
         "name": "country_Saint Kitts and Nevis",
         "rawType": "float64",
         "type": "float"
        },
        {
         "name": "country_Saint Martin",
         "rawType": "float64",
         "type": "float"
        },
        {
         "name": "country_San Marino",
         "rawType": "float64",
         "type": "float"
        },
        {
         "name": "country_Saudi Arabia",
         "rawType": "float64",
         "type": "float"
        },
        {
         "name": "country_Senegal",
         "rawType": "float64",
         "type": "float"
        },
        {
         "name": "country_Serbia",
         "rawType": "float64",
         "type": "float"
        },
        {
         "name": "country_Seychelles",
         "rawType": "float64",
         "type": "float"
        },
        {
         "name": "country_Singapore",
         "rawType": "float64",
         "type": "float"
        },
        {
         "name": "country_Slovakia (SLOVAK Republic)",
         "rawType": "float64",
         "type": "float"
        },
        {
         "name": "country_Slovenia",
         "rawType": "float64",
         "type": "float"
        },
        {
         "name": "country_South Africa",
         "rawType": "float64",
         "type": "float"
        },
        {
         "name": "country_South Sudan",
         "rawType": "float64",
         "type": "float"
        },
        {
         "name": "country_Spain",
         "rawType": "float64",
         "type": "float"
        },
        {
         "name": "country_Sri Lanka",
         "rawType": "float64",
         "type": "float"
        },
        {
         "name": "country_Sudan",
         "rawType": "float64",
         "type": "float"
        },
        {
         "name": "country_Sweden",
         "rawType": "float64",
         "type": "float"
        },
        {
         "name": "country_Switzerland",
         "rawType": "float64",
         "type": "float"
        },
        {
         "name": "country_Syrian Arab Republic",
         "rawType": "float64",
         "type": "float"
        },
        {
         "name": "country_Taiwan; Republic of China (ROC)",
         "rawType": "float64",
         "type": "float"
        },
        {
         "name": "country_Tajikistan",
         "rawType": "float64",
         "type": "float"
        },
        {
         "name": "country_Tanzania United Republic of",
         "rawType": "float64",
         "type": "float"
        },
        {
         "name": "country_Thailand",
         "rawType": "float64",
         "type": "float"
        },
        {
         "name": "country_Trinidad and Tobago",
         "rawType": "float64",
         "type": "float"
        },
        {
         "name": "country_Tunisia",
         "rawType": "float64",
         "type": "float"
        },
        {
         "name": "country_Turkey",
         "rawType": "float64",
         "type": "float"
        },
        {
         "name": "country_Turkmenistan",
         "rawType": "float64",
         "type": "float"
        },
        {
         "name": "country_Uganda",
         "rawType": "float64",
         "type": "float"
        },
        {
         "name": "country_Ukraine",
         "rawType": "float64",
         "type": "float"
        },
        {
         "name": "country_United Arab Emirates",
         "rawType": "float64",
         "type": "float"
        },
        {
         "name": "country_United Kingdom",
         "rawType": "float64",
         "type": "float"
        },
        {
         "name": "country_United States",
         "rawType": "float64",
         "type": "float"
        },
        {
         "name": "country_Unknown",
         "rawType": "float64",
         "type": "float"
        },
        {
         "name": "country_Uruguay",
         "rawType": "float64",
         "type": "float"
        },
        {
         "name": "country_Uzbekistan",
         "rawType": "float64",
         "type": "float"
        },
        {
         "name": "country_Vanuatu",
         "rawType": "float64",
         "type": "float"
        },
        {
         "name": "country_Venezuela",
         "rawType": "float64",
         "type": "float"
        },
        {
         "name": "country_Viet Nam",
         "rawType": "float64",
         "type": "float"
        },
        {
         "name": "country_Virgin Islands (U.S.)",
         "rawType": "float64",
         "type": "float"
        },
        {
         "name": "country_Yemen",
         "rawType": "float64",
         "type": "float"
        },
        {
         "name": "country_Zambia",
         "rawType": "float64",
         "type": "float"
        },
        {
         "name": "country_Zimbabwe",
         "rawType": "float64",
         "type": "float"
        },
        {
         "name": "day_of_week_Friday",
         "rawType": "float64",
         "type": "float"
        },
        {
         "name": "day_of_week_Monday",
         "rawType": "float64",
         "type": "float"
        },
        {
         "name": "day_of_week_Saturday",
         "rawType": "float64",
         "type": "float"
        },
        {
         "name": "day_of_week_Sunday",
         "rawType": "float64",
         "type": "float"
        },
        {
         "name": "day_of_week_Thursday",
         "rawType": "float64",
         "type": "float"
        },
        {
         "name": "day_of_week_Tuesday",
         "rawType": "float64",
         "type": "float"
        },
        {
         "name": "day_of_week_Wednesday",
         "rawType": "float64",
         "type": "float"
        },
        {
         "name": "hour_of_day_0",
         "rawType": "float64",
         "type": "float"
        },
        {
         "name": "hour_of_day_1",
         "rawType": "float64",
         "type": "float"
        },
        {
         "name": "hour_of_day_2",
         "rawType": "float64",
         "type": "float"
        },
        {
         "name": "hour_of_day_3",
         "rawType": "float64",
         "type": "float"
        },
        {
         "name": "hour_of_day_4",
         "rawType": "float64",
         "type": "float"
        },
        {
         "name": "hour_of_day_5",
         "rawType": "float64",
         "type": "float"
        },
        {
         "name": "hour_of_day_6",
         "rawType": "float64",
         "type": "float"
        },
        {
         "name": "hour_of_day_7",
         "rawType": "float64",
         "type": "float"
        },
        {
         "name": "hour_of_day_8",
         "rawType": "float64",
         "type": "float"
        },
        {
         "name": "hour_of_day_9",
         "rawType": "float64",
         "type": "float"
        },
        {
         "name": "hour_of_day_10",
         "rawType": "float64",
         "type": "float"
        },
        {
         "name": "hour_of_day_11",
         "rawType": "float64",
         "type": "float"
        },
        {
         "name": "hour_of_day_12",
         "rawType": "float64",
         "type": "float"
        },
        {
         "name": "hour_of_day_13",
         "rawType": "float64",
         "type": "float"
        },
        {
         "name": "hour_of_day_14",
         "rawType": "float64",
         "type": "float"
        },
        {
         "name": "hour_of_day_15",
         "rawType": "float64",
         "type": "float"
        },
        {
         "name": "hour_of_day_16",
         "rawType": "float64",
         "type": "float"
        },
        {
         "name": "hour_of_day_17",
         "rawType": "float64",
         "type": "float"
        },
        {
         "name": "hour_of_day_18",
         "rawType": "float64",
         "type": "float"
        },
        {
         "name": "hour_of_day_19",
         "rawType": "float64",
         "type": "float"
        },
        {
         "name": "hour_of_day_20",
         "rawType": "float64",
         "type": "float"
        },
        {
         "name": "hour_of_day_21",
         "rawType": "float64",
         "type": "float"
        },
        {
         "name": "hour_of_day_22",
         "rawType": "float64",
         "type": "float"
        },
        {
         "name": "hour_of_day_23",
         "rawType": "float64",
         "type": "float"
        }
       ],
       "ref": "f1bb3eeb-ddba-432f-afdf-1183cc9ec7f4",
       "rows": [
        [
         "0",
         "0.40321499647601194",
         "0.5874026234553736",
         "1.8060339492732305",
         "1.4658726453142679",
         "1.2874089753687599",
         "-0.5463752415355247",
         "-0.8305401475744838",
         "-0.8785104882659518",
         "-0.46068531953050257",
         "-0.5724324278981674",
         "6.6555561450952645",
         "-0.4540080215767636",
         "-0.8649449543443112",
         "0.8649449543443111",
         "-0.006976004407376641",
         "-0.007085171679614153",
         "-0.029627810547997076",
         "-0.01227823540798307",
         "-0.0021362108961245794",
         "-0.07007433796981537",
         "-0.01240921084019983",
         "-0.11286809616873188",
         "-0.05402524472000742",
         "-0.01278425296635596",
         "-0.0037000426925722376",
         "-0.0070851716796141535",
         "-0.015792959200372096",
         "-0.005651960156075668",
         "-0.019646771059693084",
         "-0.05986171694719177",
         "-0.00427245103768458",
         "-0.0030210653145566146",
         "-0.0030210653145566146",
         "-0.003021065314556614",
         "-0.02763926580793495",
         "0.0",
         "-0.011686133781307508",
         "-0.0037000426925722376",
         "-0.14121058636218564",
         "-0.002136210896124579",
         "-0.004776756374680608",
         "-0.026926856019564967",
         "-0.0030210653145566146",
         "-0.002136210896124579",
         "-0.006755430720352489",
         "-0.00427245103768458",
         "-0.15318460533290473",
         "-0.002136210896124579",
         "-0.00427245103768458",
         "-0.06332694210949708",
         "-0.2916232933694588",
         "-0.061234377035656457",
         "-0.0037000426925722376",
         "-0.0030210653145566146",
         "-0.027742115852395787",
         "-0.008704021193125525",
         "-0.019192966574646243",
         "-0.005651960156075667",
         "-0.0037000426925722376",
         "-0.014806435923657487",
         "-0.05148566947051324",
         "-0.06848863986325834",
         "-0.0037000426925722376",
         "-0.002136210896124579",
         "-0.016087935452357986",
         "-0.03916384249039666",
         "-0.05474547499082765",
         "-0.011125197177549282",
         "-0.013875148222311503",
         "-0.003700042692572237",
         "-0.039098261631474035",
         "-0.0030210653145566146",
         "-0.0030210653145566146",
         "-0.058921052891611106",
         "-0.1505917946259362",
         "-0.005651960156075669",
         "-0.002136210896124579",
         "-0.0139833543426407",
         "-0.14770911634173792",
         "-0.005651960156075667",
         "-0.003021065314556615",
         "-0.04396895523331829",
         "-0.0021362108961245786",
         "-0.005232686375882529",
         "-0.009063526834988707",
         "-0.003700042692572237",
         "-0.009369719605613358",
         "-0.06363258064524145",
         "-0.036658326895901934",
         "-0.013973107496061624",
         "-0.09906586217743966",
         "-0.06762764508961774",
         "-0.0541009876564381",
         "-0.008273773524491301",
         "-0.05348467708904411",
         "-0.038164332015689216",
         "-0.11330496822949442",
         "-0.005651960156075669",
         "-0.22756949483530964",
         "-0.010465802606909727",
         "-0.023176059950134453",
         "-0.026084587138428785",
         "-0.16881824817321756",
         "-0.03192008692318355",
         "-0.008273773524491301",
         "-0.0037000426925722376",
         "-0.022426912426842666",
         "-0.014274817429683081",
         "-0.002136210896124579",
         "-0.009918943961399985",
         "-0.002136210896124579",
         "-0.03289908732653024",
         "-0.035397237579649916",
         "-0.0064087496721173575",
         "-0.011771171777235032",
         "-0.002136210896124579",
         "-0.009582534149845676",
         "-0.036865337402480075",
         "-0.0030210653145566146",
         "-0.014879903953684446",
         "-0.00916524198828299",
         "-0.09476502249112828",
         "-0.015399659876612454",
         "-0.003700042692572237",
         "-0.0052326863758825285",
         "-0.008638528212760468",
         "-0.02550918209489828",
         "-0.007400237354085827",
         "-0.002136210896124579",
         "-0.022943091357944305",
         "-0.0021362108961245786",
         "-0.007993206377838636",
         "-0.10094624356664421",
         "-0.003700042692572237",
         "-0.05727173808090329",
         "-0.010893418703443864",
         "-0.002136210896124579",
         "-0.020133216347134438",
         "-0.07288451480438736",
         "-0.012272493419873149",
         "-0.031056591982604333",
         "-0.008273773524491301",
         "-0.01876975132232536",
         "-0.00427245103768458",
         "-0.015746146282626345",
         "-0.039022883693912436",
         "-0.02933424777469618",
         "-0.06330903798724642",
         "-0.035866716440755994",
         "-0.010893202437302697",
         "-0.009789794889279798",
         "-0.0030210653145566146",
         "-0.05361160483803221",
         "-0.10557288531495229",
         "-0.007993206377838638",
         "-0.003021065314556615",
         "-0.002136210896124579",
         "0.0",
         "-0.05295385186673807",
         "-0.00821770971608841",
         "-0.01765739513228946",
         "-0.029482405278081818",
         "-0.038882885568869326",
         "-0.02090047769255",
         "-0.020002382884203692",
         "-0.07304136444001988",
         "-0.0021362108961245794",
         "-0.08107659981919686",
         "-0.023133349670283188",
         "-0.015050617178915813",
         "-0.09405012608670268",
         "-0.07605411211144604",
         "-0.009553839745652692",
         "-0.08984657900917267",
         "-0.002136210896124579",
         "-0.007993206377838638",
         "-0.03940172016442339",
         "-0.014496955836042338",
         "-0.03623158492248526",
         "-0.06117332659287836",
         "-0.007402582710002619",
         "-0.0070851716796141535",
         "-0.05679211610115851",
         "-0.03085706735943862",
         "-0.1831315045134663",
         "-0.8022482722636236",
         "2.4657041190944278",
         "-0.021187549085631655",
         "-0.010159476126737012",
         "-0.0021362108961245786",
         "-0.04125907536241649",
         "-0.05566266298161961",
         "-0.0030210653145566146",
         "-0.002136210896124579",
         "-0.006042213349111623",
         "-0.004776756374680607",
         "-0.4304767078660617",
         "-0.4297407356795814",
         "-0.4321561563157236",
         "-0.43867993310487385",
         "-0.4277595876356064",
         "-0.4016521495068029",
         "2.6702662865232187",
         "-0.2116258633238057",
         "-0.21122382225456415",
         "-0.21594145431038847",
         "-0.21991992333190236",
         "-0.20626675671667913",
         "-0.2127942493960097",
         "-0.2170393767352627",
         "-0.21031825301169393",
         "-0.22232623710666008",
         "-0.22639226026396242",
         "4.937156607644931",
         "-0.21525877288414955",
         "-0.22075838847108287",
         "-0.21125412585797473",
         "-0.2194922176145639",
         "-0.22141212637737634",
         "-0.21837869842804333",
         "-0.2272115669544333",
         "-0.21936999499466195",
         "-0.21739645898316234",
         "-0.20745369062786817",
         "-0.21151415652474181",
         "-0.2158770655782046",
         "-0.2143897117301946"
        ],
        [
         "1",
         "0.5162971912748424",
         "0.4671180795054187",
         "1.9753319212160327",
         "0.8124583336146226",
         "-0.8350259473665943",
         "-0.5463752415355247",
         "1.2945862002340167",
         "-0.8785104882659518",
         "-0.46068531953050257",
         "-0.5724324278981674",
         "6.6555561450952645",
         "-0.4540080215767636",
         "-0.8649449543443112",
         "0.8649449543443111",
         "-0.006976004407376641",
         "-0.007085171679614153",
         "-0.029627810547997076",
         "-0.01227823540798307",
         "-0.0021362108961245794",
         "-0.07007433796981537",
         "-0.01240921084019983",
         "-0.11286809616873188",
         "-0.05402524472000742",
         "-0.01278425296635596",
         "-0.0037000426925722376",
         "-0.0070851716796141535",
         "-0.015792959200372096",
         "-0.005651960156075668",
         "-0.019646771059693084",
         "-0.05986171694719177",
         "-0.00427245103768458",
         "-0.0030210653145566146",
         "-0.0030210653145566146",
         "-0.003021065314556614",
         "-0.02763926580793495",
         "0.0",
         "-0.011686133781307508",
         "-0.0037000426925722376",
         "-0.14121058636218564",
         "-0.002136210896124579",
         "-0.004776756374680608",
         "-0.026926856019564967",
         "-0.0030210653145566146",
         "-0.002136210896124579",
         "-0.006755430720352489",
         "-0.00427245103768458",
         "-0.15318460533290473",
         "-0.002136210896124579",
         "-0.00427245103768458",
         "-0.06332694210949708",
         "-0.2916232933694588",
         "-0.061234377035656457",
         "-0.0037000426925722376",
         "-0.0030210653145566146",
         "-0.027742115852395787",
         "-0.008704021193125525",
         "-0.019192966574646243",
         "-0.005651960156075667",
         "-0.0037000426925722376",
         "-0.014806435923657487",
         "-0.05148566947051324",
         "-0.06848863986325834",
         "-0.0037000426925722376",
         "-0.002136210896124579",
         "-0.016087935452357986",
         "-0.03916384249039666",
         "-0.05474547499082765",
         "-0.011125197177549282",
         "-0.013875148222311503",
         "-0.003700042692572237",
         "-0.039098261631474035",
         "-0.0030210653145566146",
         "-0.0030210653145566146",
         "-0.058921052891611106",
         "-0.1505917946259362",
         "-0.005651960156075669",
         "-0.002136210896124579",
         "-0.0139833543426407",
         "-0.14770911634173792",
         "-0.005651960156075667",
         "-0.003021065314556615",
         "-0.04396895523331829",
         "-0.0021362108961245786",
         "-0.005232686375882529",
         "-0.009063526834988707",
         "-0.003700042692572237",
         "-0.009369719605613358",
         "-0.06363258064524145",
         "-0.036658326895901934",
         "-0.013973107496061624",
         "-0.09906586217743966",
         "-0.06762764508961774",
         "-0.0541009876564381",
         "-0.008273773524491301",
         "-0.05348467708904411",
         "-0.038164332015689216",
         "-0.11330496822949442",
         "-0.005651960156075669",
         "-0.22756949483530964",
         "-0.010465802606909727",
         "-0.023176059950134453",
         "-0.026084587138428785",
         "-0.16881824817321756",
         "-0.03192008692318355",
         "-0.008273773524491301",
         "-0.0037000426925722376",
         "-0.022426912426842666",
         "-0.014274817429683081",
         "-0.002136210896124579",
         "-0.009918943961399985",
         "-0.002136210896124579",
         "-0.03289908732653024",
         "-0.035397237579649916",
         "-0.0064087496721173575",
         "-0.011771171777235032",
         "-0.002136210896124579",
         "-0.009582534149845676",
         "-0.036865337402480075",
         "-0.0030210653145566146",
         "-0.014879903953684446",
         "-0.00916524198828299",
         "10.695467895856376",
         "-0.015399659876612454",
         "-0.003700042692572237",
         "-0.0052326863758825285",
         "-0.008638528212760468",
         "-0.02550918209489828",
         "-0.007400237354085827",
         "-0.002136210896124579",
         "-0.022943091357944305",
         "-0.0021362108961245786",
         "-0.007993206377838636",
         "-0.10094624356664421",
         "-0.003700042692572237",
         "-0.05727173808090329",
         "-0.010893418703443864",
         "-0.002136210896124579",
         "-0.020133216347134438",
         "-0.07288451480438736",
         "-0.012272493419873149",
         "-0.031056591982604333",
         "-0.008273773524491301",
         "-0.01876975132232536",
         "-0.00427245103768458",
         "-0.015746146282626345",
         "-0.039022883693912436",
         "-0.02933424777469618",
         "-0.06330903798724642",
         "-0.035866716440755994",
         "-0.010893202437302697",
         "-0.009789794889279798",
         "-0.0030210653145566146",
         "-0.05361160483803221",
         "-0.10557288531495229",
         "-0.007993206377838638",
         "-0.003021065314556615",
         "-0.002136210896124579",
         "0.0",
         "-0.05295385186673807",
         "-0.00821770971608841",
         "-0.01765739513228946",
         "-0.029482405278081818",
         "-0.038882885568869326",
         "-0.02090047769255",
         "-0.020002382884203692",
         "-0.07304136444001988",
         "-0.0021362108961245794",
         "-0.08107659981919686",
         "-0.023133349670283188",
         "-0.015050617178915813",
         "-0.09405012608670268",
         "-0.07605411211144604",
         "-0.009553839745652692",
         "-0.08984657900917267",
         "-0.002136210896124579",
         "-0.007993206377838638",
         "-0.03940172016442339",
         "-0.014496955836042338",
         "-0.03623158492248526",
         "-0.06117332659287836",
         "-0.007402582710002619",
         "-0.0070851716796141535",
         "-0.05679211610115851",
         "-0.03085706735943862",
         "-0.1831315045134663",
         "-0.8022482722636236",
         "-0.40597560572735275",
         "-0.021187549085631655",
         "-0.010159476126737012",
         "-0.0021362108961245786",
         "-0.04125907536241649",
         "-0.05566266298161961",
         "-0.0030210653145566146",
         "-0.002136210896124579",
         "-0.006042213349111623",
         "-0.004776756374680607",
         "2.491293091792114",
         "-0.4297407356795814",
         "-0.4321561563157236",
         "-0.43867993310487385",
         "-0.4277595876356064",
         "-0.4016521495068029",
         "-0.40431183030740037",
         "-0.2116258633238057",
         "-0.21122382225456415",
         "-0.21594145431038847",
         "-0.21991992333190236",
         "-0.20626675671667913",
         "5.096404043770783",
         "-0.2170393767352627",
         "-0.21031825301169393",
         "-0.22232623710666008",
         "-0.22639226026396242",
         "-0.21819753147831203",
         "-0.21525877288414955",
         "-0.22075838847108287",
         "-0.21125412585797473",
         "-0.2194922176145639",
         "-0.22141212637737634",
         "-0.21837869842804333",
         "-0.2272115669544333",
         "-0.21936999499466195",
         "-0.21739645898316234",
         "-0.20745369062786817",
         "-0.21151415652474181",
         "-0.2158770655782046",
         "-0.2143897117301946"
        ],
        [
         "2",
         "-0.2752781723169708",
         "0.34683353555546387",
         "0.4496220502947935",
         "-1.7089094698236582",
         "1.2874089753687599",
         "-0.5463752415355247",
         "-0.8305401475744838",
         "1.2255112382265152",
         "-0.46068531953050257",
         "-0.5724324278981674",
         "-0.16210538611284955",
         "-0.4540080215767636",
         "1.2427909814060112",
         "-1.2427909814060112",
         "-0.006976004407376641",
         "-0.007085171679614153",
         "-0.029627810547997076",
         "-0.01227823540798307",
         "-0.0021362108961245794",
         "-0.07007433796981537",
         "-0.01240921084019983",
         "-0.11286809616873188",
         "-0.05402524472000742",
         "-0.01278425296635596",
         "-0.0037000426925722376",
         "-0.0070851716796141535",
         "-0.015792959200372096",
         "-0.005651960156075668",
         "-0.019646771059693084",
         "-0.05986171694719177",
         "-0.00427245103768458",
         "-0.0030210653145566146",
         "-0.0030210653145566146",
         "-0.003021065314556614",
         "-0.02763926580793495",
         "0.0",
         "-0.011686133781307508",
         "-0.0037000426925722376",
         "-0.14121058636218564",
         "-0.002136210896124579",
         "-0.004776756374680608",
         "-0.026926856019564967",
         "-0.0030210653145566146",
         "-0.002136210896124579",
         "-0.006755430720352489",
         "-0.00427245103768458",
         "-0.15318460533290473",
         "-0.002136210896124579",
         "-0.00427245103768458",
         "-0.06332694210949708",
         "-0.2916232933694588",
         "-0.061234377035656457",
         "-0.0037000426925722376",
         "-0.0030210653145566146",
         "-0.027742115852395787",
         "-0.008704021193125525",
         "-0.019192966574646243",
         "-0.005651960156075667",
         "-0.0037000426925722376",
         "-0.014806435923657487",
         "-0.05148566947051324",
         "-0.06848863986325834",
         "-0.0037000426925722376",
         "-0.002136210896124579",
         "-0.016087935452357986",
         "-0.03916384249039666",
         "-0.05474547499082765",
         "-0.011125197177549282",
         "-0.013875148222311503",
         "-0.003700042692572237",
         "-0.039098261631474035",
         "-0.0030210653145566146",
         "-0.0030210653145566146",
         "-0.058921052891611106",
         "-0.1505917946259362",
         "-0.005651960156075669",
         "-0.002136210896124579",
         "-0.0139833543426407",
         "-0.14770911634173792",
         "-0.005651960156075667",
         "-0.003021065314556615",
         "-0.04396895523331829",
         "-0.0021362108961245786",
         "-0.005232686375882529",
         "-0.009063526834988707",
         "-0.003700042692572237",
         "-0.009369719605613358",
         "-0.06363258064524145",
         "-0.036658326895901934",
         "-0.013973107496061624",
         "-0.09906586217743966",
         "-0.06762764508961774",
         "-0.0541009876564381",
         "-0.008273773524491301",
         "-0.05348467708904411",
         "-0.038164332015689216",
         "-0.11330496822949442",
         "-0.005651960156075669",
         "-0.22756949483530964",
         "-0.010465802606909727",
         "-0.023176059950134453",
         "-0.026084587138428785",
         "-0.16881824817321756",
         "-0.03192008692318355",
         "-0.008273773524491301",
         "-0.0037000426925722376",
         "-0.022426912426842666",
         "-0.014274817429683081",
         "-0.002136210896124579",
         "-0.009918943961399985",
         "-0.002136210896124579",
         "-0.03289908732653024",
         "-0.035397237579649916",
         "-0.0064087496721173575",
         "-0.011771171777235032",
         "-0.002136210896124579",
         "-0.009582534149845676",
         "-0.036865337402480075",
         "-0.0030210653145566146",
         "-0.014879903953684446",
         "-0.00916524198828299",
         "-0.09476502249112828",
         "-0.015399659876612454",
         "-0.003700042692572237",
         "-0.0052326863758825285",
         "-0.008638528212760468",
         "-0.02550918209489828",
         "-0.007400237354085827",
         "-0.002136210896124579",
         "-0.022943091357944305",
         "-0.0021362108961245786",
         "-0.007993206377838636",
         "-0.10094624356664421",
         "-0.003700042692572237",
         "-0.05727173808090329",
         "-0.010893418703443864",
         "-0.002136210896124579",
         "-0.020133216347134438",
         "-0.07288451480438736",
         "-0.012272493419873149",
         "-0.031056591982604333",
         "-0.008273773524491301",
         "-0.01876975132232536",
         "-0.00427245103768458",
         "-0.015746146282626345",
         "-0.039022883693912436",
         "-0.02933424777469618",
         "-0.06330903798724642",
         "-0.035866716440755994",
         "-0.010893202437302697",
         "-0.009789794889279798",
         "-0.0030210653145566146",
         "-0.05361160483803221",
         "-0.10557288531495229",
         "-0.007993206377838638",
         "-0.003021065314556615",
         "-0.002136210896124579",
         "0.0",
         "-0.05295385186673807",
         "-0.00821770971608841",
         "-0.01765739513228946",
         "-0.029482405278081818",
         "-0.038882885568869326",
         "-0.02090047769255",
         "-0.020002382884203692",
         "-0.07304136444001988",
         "-0.0021362108961245794",
         "-0.08107659981919686",
         "-0.023133349670283188",
         "-0.015050617178915813",
         "-0.09405012608670268",
         "-0.07605411211144604",
         "-0.009553839745652692",
         "-0.08984657900917267",
         "-0.002136210896124579",
         "-0.007993206377838638",
         "-0.03940172016442339",
         "-0.014496955836042338",
         "-0.03623158492248526",
         "-0.06117332659287836",
         "-0.007402582710002619",
         "-0.0070851716796141535",
         "-0.05679211610115851",
         "-0.03085706735943862",
         "-0.1831315045134663",
         "-0.8022482722636236",
         "-0.40597560572735275",
         "-0.021187549085631655",
         "-0.010159476126737012",
         "-0.0021362108961245786",
         "-0.04125907536241649",
         "18.930081401398674",
         "-0.0030210653145566146",
         "-0.002136210896124579",
         "-0.006042213349111623",
         "-0.004776756374680607",
         "-0.4304767078660617",
         "-0.4297407356795814",
         "-0.4321561563157236",
         "-0.43867993310487385",
         "-0.4277595876356064",
         "2.6932981414614092",
         "-0.40431183030740037",
         "-0.2116258633238057",
         "-0.21122382225456415",
         "-0.21594145431038847",
         "-0.21991992333190236",
         "-0.20626675671667913",
         "-0.2127942493960097",
         "-0.2170393767352627",
         "-0.21031825301169393",
         "-0.22232623710666008",
         "-0.22639226026396242",
         "-0.21819753147831203",
         "-0.21525877288414955",
         "-0.22075838847108287",
         "-0.21125412585797473",
         "-0.2194922176145639",
         "-0.22141212637737634",
         "-0.21837869842804333",
         "-0.2272115669544333",
         "4.92667756469556",
         "-0.21739645898316234",
         "-0.20745369062786817",
         "-0.21151415652474181",
         "-0.2158770655782046",
         "-0.2143897117301946"
        ],
        [
         "3",
         "-0.6710658541128774",
         "-0.9762964478940401",
         "0.7938191488290726",
         "1.1497477811408474",
         "-0.8350259473665943",
         "-0.5463752415355247",
         "1.2945862002340167",
         "-0.8785104882659518",
         "2.3354151946093857",
         "-0.5724324278981674",
         "-0.16210538611284955",
         "-0.4540080215767636",
         "-0.8649449543443112",
         "0.8649449543443111",
         "-0.006976004407376641",
         "-0.007085171679614153",
         "-0.029627810547997076",
         "-0.01227823540798307",
         "-0.0021362108961245794",
         "-0.07007433796981537",
         "-0.01240921084019983",
         "-0.11286809616873188",
         "19.771420094367773",
         "-0.01278425296635596",
         "-0.0037000426925722376",
         "-0.0070851716796141535",
         "-0.015792959200372096",
         "-0.005651960156075668",
         "-0.019646771059693084",
         "-0.05986171694719177",
         "-0.00427245103768458",
         "-0.0030210653145566146",
         "-0.0030210653145566146",
         "-0.003021065314556614",
         "-0.02763926580793495",
         "0.0",
         "-0.011686133781307508",
         "-0.0037000426925722376",
         "-0.14121058636218564",
         "-0.002136210896124579",
         "-0.004776756374680608",
         "-0.026926856019564967",
         "-0.0030210653145566146",
         "-0.002136210896124579",
         "-0.006755430720352489",
         "-0.00427245103768458",
         "-0.15318460533290473",
         "-0.002136210896124579",
         "-0.00427245103768458",
         "-0.06332694210949708",
         "-0.2916232933694588",
         "-0.061234377035656457",
         "-0.0037000426925722376",
         "-0.0030210653145566146",
         "-0.027742115852395787",
         "-0.008704021193125525",
         "-0.019192966574646243",
         "-0.005651960156075667",
         "-0.0037000426925722376",
         "-0.014806435923657487",
         "-0.05148566947051324",
         "-0.06848863986325834",
         "-0.0037000426925722376",
         "-0.002136210896124579",
         "-0.016087935452357986",
         "-0.03916384249039666",
         "-0.05474547499082765",
         "-0.011125197177549282",
         "-0.013875148222311503",
         "-0.003700042692572237",
         "-0.039098261631474035",
         "-0.0030210653145566146",
         "-0.0030210653145566146",
         "-0.058921052891611106",
         "-0.1505917946259362",
         "-0.005651960156075669",
         "-0.002136210896124579",
         "-0.0139833543426407",
         "-0.14770911634173792",
         "-0.005651960156075667",
         "-0.003021065314556615",
         "-0.04396895523331829",
         "-0.0021362108961245786",
         "-0.005232686375882529",
         "-0.009063526834988707",
         "-0.003700042692572237",
         "-0.009369719605613358",
         "-0.06363258064524145",
         "-0.036658326895901934",
         "-0.013973107496061624",
         "-0.09906586217743966",
         "-0.06762764508961774",
         "-0.0541009876564381",
         "-0.008273773524491301",
         "-0.05348467708904411",
         "-0.038164332015689216",
         "-0.11330496822949442",
         "-0.005651960156075669",
         "-0.22756949483530964",
         "-0.010465802606909727",
         "-0.023176059950134453",
         "-0.026084587138428785",
         "-0.16881824817321756",
         "-0.03192008692318355",
         "-0.008273773524491301",
         "-0.0037000426925722376",
         "-0.022426912426842666",
         "-0.014274817429683081",
         "-0.002136210896124579",
         "-0.009918943961399985",
         "-0.002136210896124579",
         "-0.03289908732653024",
         "-0.035397237579649916",
         "-0.0064087496721173575",
         "-0.011771171777235032",
         "-0.002136210896124579",
         "-0.009582534149845676",
         "-0.036865337402480075",
         "-0.0030210653145566146",
         "-0.014879903953684446",
         "-0.00916524198828299",
         "-0.09476502249112828",
         "-0.015399659876612454",
         "-0.003700042692572237",
         "-0.0052326863758825285",
         "-0.008638528212760468",
         "-0.02550918209489828",
         "-0.007400237354085827",
         "-0.002136210896124579",
         "-0.022943091357944305",
         "-0.0021362108961245786",
         "-0.007993206377838636",
         "-0.10094624356664421",
         "-0.003700042692572237",
         "-0.05727173808090329",
         "-0.010893418703443864",
         "-0.002136210896124579",
         "-0.020133216347134438",
         "-0.07288451480438736",
         "-0.012272493419873149",
         "-0.031056591982604333",
         "-0.008273773524491301",
         "-0.01876975132232536",
         "-0.00427245103768458",
         "-0.015746146282626345",
         "-0.039022883693912436",
         "-0.02933424777469618",
         "-0.06330903798724642",
         "-0.035866716440755994",
         "-0.010893202437302697",
         "-0.009789794889279798",
         "-0.0030210653145566146",
         "-0.05361160483803221",
         "-0.10557288531495229",
         "-0.007993206377838638",
         "-0.003021065314556615",
         "-0.002136210896124579",
         "0.0",
         "-0.05295385186673807",
         "-0.00821770971608841",
         "-0.01765739513228946",
         "-0.029482405278081818",
         "-0.038882885568869326",
         "-0.02090047769255",
         "-0.020002382884203692",
         "-0.07304136444001988",
         "-0.0021362108961245794",
         "-0.08107659981919686",
         "-0.023133349670283188",
         "-0.015050617178915813",
         "-0.09405012608670268",
         "-0.07605411211144604",
         "-0.009553839745652692",
         "-0.08984657900917267",
         "-0.002136210896124579",
         "-0.007993206377838638",
         "-0.03940172016442339",
         "-0.014496955836042338",
         "-0.03623158492248526",
         "-0.06117332659287836",
         "-0.007402582710002619",
         "-0.0070851716796141535",
         "-0.05679211610115851",
         "-0.03085706735943862",
         "-0.1831315045134663",
         "-0.8022482722636236",
         "-0.40597560572735275",
         "-0.021187549085631655",
         "-0.010159476126737012",
         "-0.0021362108961245786",
         "-0.04125907536241649",
         "-0.05566266298161961",
         "-0.0030210653145566146",
         "-0.002136210896124579",
         "-0.006042213349111623",
         "-0.004776756374680607",
         "-0.4304767078660617",
         "2.501370497615784",
         "-0.4321561563157236",
         "-0.43867993310487385",
         "-0.4277595876356064",
         "-0.4016521495068029",
         "-0.40431183030740037",
         "-0.2116258633238057",
         "-0.21122382225456415",
         "-0.21594145431038847",
         "-0.21991992333190236",
         "-0.20626675671667913",
         "-0.2127942493960097",
         "-0.2170393767352627",
         "-0.21031825301169393",
         "-0.22232623710666008",
         "-0.22639226026396242",
         "-0.21819753147831203",
         "5.011536397386063",
         "-0.22075838847108287",
         "-0.21125412585797473",
         "-0.2194922176145639",
         "-0.22141212637737634",
         "-0.21837869842804333",
         "-0.2272115669544333",
         "-0.21936999499466195",
         "-0.21739645898316234",
         "-0.20745369062786817",
         "-0.21151415652474181",
         "-0.2158770655782046",
         "-0.2143897117301946"
        ],
        [
         "4",
         "0.6859204834730881",
         "1.0685407992551932",
         "1.843233441349236",
         "-1.324787824617651",
         "-0.8350259473665943",
         "1.986041229395111",
         "-0.8305401475744838",
         "1.2255112382265152",
         "-0.46068531953050257",
         "-0.5724324278981674",
         "-0.16210538611284955",
         "-0.4540080215767636",
         "-0.8649449543443112",
         "0.8649449543443111",
         "-0.006976004407376641",
         "-0.007085171679614153",
         "-0.029627810547997076",
         "-0.01227823540798307",
         "-0.0021362108961245794",
         "-0.07007433796981537",
         "-0.01240921084019983",
         "-0.11286809616873188",
         "-0.05402524472000742",
         "-0.01278425296635596",
         "-0.0037000426925722376",
         "-0.0070851716796141535",
         "-0.015792959200372096",
         "-0.005651960156075668",
         "-0.019646771059693084",
         "-0.05986171694719177",
         "-0.00427245103768458",
         "-0.0030210653145566146",
         "-0.0030210653145566146",
         "-0.003021065314556614",
         "-0.02763926580793495",
         "0.0",
         "-0.011686133781307508",
         "-0.0037000426925722376",
         "-0.14121058636218564",
         "-0.002136210896124579",
         "-0.004776756374680608",
         "-0.026926856019564967",
         "-0.0030210653145566146",
         "-0.002136210896124579",
         "-0.006755430720352489",
         "-0.00427245103768458",
         "-0.15318460533290473",
         "-0.002136210896124579",
         "-0.00427245103768458",
         "-0.06332694210949708",
         "-0.2916232933694588",
         "-0.061234377035656457",
         "-0.0037000426925722376",
         "-0.0030210653145566146",
         "-0.027742115852395787",
         "-0.008704021193125525",
         "-0.019192966574646243",
         "-0.005651960156075667",
         "-0.0037000426925722376",
         "-0.014806435923657487",
         "-0.05148566947051324",
         "-0.06848863986325834",
         "-0.0037000426925722376",
         "-0.002136210896124579",
         "-0.016087935452357986",
         "-0.03916384249039666",
         "-0.05474547499082765",
         "-0.011125197177549282",
         "-0.013875148222311503",
         "-0.003700042692572237",
         "-0.039098261631474035",
         "-0.0030210653145566146",
         "-0.0030210653145566146",
         "-0.058921052891611106",
         "-0.1505917946259362",
         "-0.005651960156075669",
         "-0.002136210896124579",
         "-0.0139833543426407",
         "-0.14770911634173792",
         "-0.005651960156075667",
         "-0.003021065314556615",
         "-0.04396895523331829",
         "-0.0021362108961245786",
         "-0.005232686375882529",
         "-0.009063526834988707",
         "-0.003700042692572237",
         "-0.009369719605613358",
         "-0.06363258064524145",
         "-0.036658326895901934",
         "-0.013973107496061624",
         "-0.09906586217743966",
         "-0.06762764508961774",
         "-0.0541009876564381",
         "-0.008273773524491301",
         "-0.05348467708904411",
         "-0.038164332015689216",
         "-0.11330496822949442",
         "-0.005651960156075669",
         "-0.22756949483530964",
         "-0.010465802606909727",
         "-0.023176059950134453",
         "-0.026084587138428785",
         "-0.16881824817321756",
         "-0.03192008692318355",
         "-0.008273773524491301",
         "-0.0037000426925722376",
         "-0.022426912426842666",
         "-0.014274817429683081",
         "-0.002136210896124579",
         "-0.009918943961399985",
         "-0.002136210896124579",
         "-0.03289908732653024",
         "-0.035397237579649916",
         "-0.0064087496721173575",
         "-0.011771171777235032",
         "-0.002136210896124579",
         "-0.009582534149845676",
         "-0.036865337402480075",
         "-0.0030210653145566146",
         "-0.014879903953684446",
         "-0.00916524198828299",
         "-0.09476502249112828",
         "-0.015399659876612454",
         "-0.003700042692572237",
         "-0.0052326863758825285",
         "-0.008638528212760468",
         "-0.02550918209489828",
         "-0.007400237354085827",
         "-0.002136210896124579",
         "-0.022943091357944305",
         "-0.0021362108961245786",
         "-0.007993206377838636",
         "-0.10094624356664421",
         "-0.003700042692572237",
         "-0.05727173808090329",
         "-0.010893418703443864",
         "-0.002136210896124579",
         "-0.020133216347134438",
         "-0.07288451480438736",
         "-0.012272493419873149",
         "-0.031056591982604333",
         "-0.008273773524491301",
         "-0.01876975132232536",
         "-0.00427245103768458",
         "-0.015746146282626345",
         "-0.039022883693912436",
         "-0.02933424777469618",
         "-0.06330903798724642",
         "-0.035866716440755994",
         "-0.010893202437302697",
         "-0.009789794889279798",
         "-0.0030210653145566146",
         "-0.05361160483803221",
         "-0.10557288531495229",
         "-0.007993206377838638",
         "-0.003021065314556615",
         "-0.002136210896124579",
         "0.0",
         "-0.05295385186673807",
         "-0.00821770971608841",
         "-0.01765739513228946",
         "-0.029482405278081818",
         "-0.038882885568869326",
         "-0.02090047769255",
         "-0.020002382884203692",
         "-0.07304136444001988",
         "-0.0021362108961245794",
         "-0.08107659981919686",
         "-0.023133349670283188",
         "-0.015050617178915813",
         "-0.09405012608670268",
         "-0.07605411211144604",
         "-0.009553839745652692",
         "-0.08984657900917267",
         "-0.002136210896124579",
         "-0.007993206377838638",
         "-0.03940172016442339",
         "-0.014496955836042338",
         "-0.03623158492248526",
         "-0.06117332659287836",
         "-0.007402582710002619",
         "-0.0070851716796141535",
         "-0.05679211610115851",
         "-0.03085706735943862",
         "-0.1831315045134663",
         "1.260892497283679",
         "-0.40597560572735275",
         "-0.021187549085631655",
         "-0.010159476126737012",
         "-0.0021362108961245786",
         "-0.04125907536241649",
         "-0.05566266298161961",
         "-0.0030210653145566146",
         "-0.002136210896124579",
         "-0.006042213349111623",
         "-0.004776756374680607",
         "-0.4304767078660617",
         "-0.4297407356795814",
         "-0.4321561563157236",
         "-0.43867993310487385",
         "-0.4277595876356064",
         "2.6932981414614092",
         "-0.40431183030740037",
         "-0.2116258633238057",
         "-0.21122382225456415",
         "-0.21594145431038847",
         "-0.21991992333190236",
         "-0.20626675671667913",
         "-0.2127942493960097",
         "-0.2170393767352627",
         "-0.21031825301169393",
         "-0.22232623710666008",
         "-0.22639226026396242",
         "-0.21819753147831203",
         "5.011536397386063",
         "-0.22075838847108287",
         "-0.21125412585797473",
         "-0.2194922176145639",
         "-0.22141212637737634",
         "-0.21837869842804333",
         "-0.2272115669544333",
         "-0.21936999499466195",
         "-0.21739645898316234",
         "-0.20745369062786817",
         "-0.21151415652474181",
         "-0.2158770655782046",
         "-0.2143897117301946"
        ]
       ],
       "shape": {
        "columns": 227,
        "rows": 5
       }
      },
      "text/html": [
       "<div>\n",
       "<style scoped>\n",
       "    .dataframe tbody tr th:only-of-type {\n",
       "        vertical-align: middle;\n",
       "    }\n",
       "\n",
       "    .dataframe tbody tr th {\n",
       "        vertical-align: top;\n",
       "    }\n",
       "\n",
       "    .dataframe thead th {\n",
       "        text-align: right;\n",
       "    }\n",
       "</style>\n",
       "<table border=\"1\" class=\"dataframe\">\n",
       "  <thead>\n",
       "    <tr style=\"text-align: right;\">\n",
       "      <th></th>\n",
       "      <th>purchase_value</th>\n",
       "      <th>age</th>\n",
       "      <th>time_since_signup</th>\n",
       "      <th>ip_int</th>\n",
       "      <th>source_Ads</th>\n",
       "      <th>source_Direct</th>\n",
       "      <th>source_SEO</th>\n",
       "      <th>browser_Chrome</th>\n",
       "      <th>browser_FireFox</th>\n",
       "      <th>browser_IE</th>\n",
       "      <th>...</th>\n",
       "      <th>hour_of_day_14</th>\n",
       "      <th>hour_of_day_15</th>\n",
       "      <th>hour_of_day_16</th>\n",
       "      <th>hour_of_day_17</th>\n",
       "      <th>hour_of_day_18</th>\n",
       "      <th>hour_of_day_19</th>\n",
       "      <th>hour_of_day_20</th>\n",
       "      <th>hour_of_day_21</th>\n",
       "      <th>hour_of_day_22</th>\n",
       "      <th>hour_of_day_23</th>\n",
       "    </tr>\n",
       "  </thead>\n",
       "  <tbody>\n",
       "    <tr>\n",
       "      <th>0</th>\n",
       "      <td>0.403215</td>\n",
       "      <td>0.587403</td>\n",
       "      <td>1.806034</td>\n",
       "      <td>1.465873</td>\n",
       "      <td>1.287409</td>\n",
       "      <td>-0.546375</td>\n",
       "      <td>-0.830540</td>\n",
       "      <td>-0.878510</td>\n",
       "      <td>-0.460685</td>\n",
       "      <td>-0.572432</td>\n",
       "      <td>...</td>\n",
       "      <td>-0.219492</td>\n",
       "      <td>-0.221412</td>\n",
       "      <td>-0.218379</td>\n",
       "      <td>-0.227212</td>\n",
       "      <td>-0.219370</td>\n",
       "      <td>-0.217396</td>\n",
       "      <td>-0.207454</td>\n",
       "      <td>-0.211514</td>\n",
       "      <td>-0.215877</td>\n",
       "      <td>-0.21439</td>\n",
       "    </tr>\n",
       "    <tr>\n",
       "      <th>1</th>\n",
       "      <td>0.516297</td>\n",
       "      <td>0.467118</td>\n",
       "      <td>1.975332</td>\n",
       "      <td>0.812458</td>\n",
       "      <td>-0.835026</td>\n",
       "      <td>-0.546375</td>\n",
       "      <td>1.294586</td>\n",
       "      <td>-0.878510</td>\n",
       "      <td>-0.460685</td>\n",
       "      <td>-0.572432</td>\n",
       "      <td>...</td>\n",
       "      <td>-0.219492</td>\n",
       "      <td>-0.221412</td>\n",
       "      <td>-0.218379</td>\n",
       "      <td>-0.227212</td>\n",
       "      <td>-0.219370</td>\n",
       "      <td>-0.217396</td>\n",
       "      <td>-0.207454</td>\n",
       "      <td>-0.211514</td>\n",
       "      <td>-0.215877</td>\n",
       "      <td>-0.21439</td>\n",
       "    </tr>\n",
       "    <tr>\n",
       "      <th>2</th>\n",
       "      <td>-0.275278</td>\n",
       "      <td>0.346834</td>\n",
       "      <td>0.449622</td>\n",
       "      <td>-1.708909</td>\n",
       "      <td>1.287409</td>\n",
       "      <td>-0.546375</td>\n",
       "      <td>-0.830540</td>\n",
       "      <td>1.225511</td>\n",
       "      <td>-0.460685</td>\n",
       "      <td>-0.572432</td>\n",
       "      <td>...</td>\n",
       "      <td>-0.219492</td>\n",
       "      <td>-0.221412</td>\n",
       "      <td>-0.218379</td>\n",
       "      <td>-0.227212</td>\n",
       "      <td>4.926678</td>\n",
       "      <td>-0.217396</td>\n",
       "      <td>-0.207454</td>\n",
       "      <td>-0.211514</td>\n",
       "      <td>-0.215877</td>\n",
       "      <td>-0.21439</td>\n",
       "    </tr>\n",
       "    <tr>\n",
       "      <th>3</th>\n",
       "      <td>-0.671066</td>\n",
       "      <td>-0.976296</td>\n",
       "      <td>0.793819</td>\n",
       "      <td>1.149748</td>\n",
       "      <td>-0.835026</td>\n",
       "      <td>-0.546375</td>\n",
       "      <td>1.294586</td>\n",
       "      <td>-0.878510</td>\n",
       "      <td>2.335415</td>\n",
       "      <td>-0.572432</td>\n",
       "      <td>...</td>\n",
       "      <td>-0.219492</td>\n",
       "      <td>-0.221412</td>\n",
       "      <td>-0.218379</td>\n",
       "      <td>-0.227212</td>\n",
       "      <td>-0.219370</td>\n",
       "      <td>-0.217396</td>\n",
       "      <td>-0.207454</td>\n",
       "      <td>-0.211514</td>\n",
       "      <td>-0.215877</td>\n",
       "      <td>-0.21439</td>\n",
       "    </tr>\n",
       "    <tr>\n",
       "      <th>4</th>\n",
       "      <td>0.685920</td>\n",
       "      <td>1.068541</td>\n",
       "      <td>1.843233</td>\n",
       "      <td>-1.324788</td>\n",
       "      <td>-0.835026</td>\n",
       "      <td>1.986041</td>\n",
       "      <td>-0.830540</td>\n",
       "      <td>1.225511</td>\n",
       "      <td>-0.460685</td>\n",
       "      <td>-0.572432</td>\n",
       "      <td>...</td>\n",
       "      <td>-0.219492</td>\n",
       "      <td>-0.221412</td>\n",
       "      <td>-0.218379</td>\n",
       "      <td>-0.227212</td>\n",
       "      <td>-0.219370</td>\n",
       "      <td>-0.217396</td>\n",
       "      <td>-0.207454</td>\n",
       "      <td>-0.211514</td>\n",
       "      <td>-0.215877</td>\n",
       "      <td>-0.21439</td>\n",
       "    </tr>\n",
       "  </tbody>\n",
       "</table>\n",
       "<p>5 rows × 227 columns</p>\n",
       "</div>"
      ],
      "text/plain": [
       "   purchase_value       age  time_since_signup    ip_int  source_Ads  \\\n",
       "0        0.403215  0.587403           1.806034  1.465873    1.287409   \n",
       "1        0.516297  0.467118           1.975332  0.812458   -0.835026   \n",
       "2       -0.275278  0.346834           0.449622 -1.708909    1.287409   \n",
       "3       -0.671066 -0.976296           0.793819  1.149748   -0.835026   \n",
       "4        0.685920  1.068541           1.843233 -1.324788   -0.835026   \n",
       "\n",
       "   source_Direct  source_SEO  browser_Chrome  browser_FireFox  browser_IE  \\\n",
       "0      -0.546375   -0.830540       -0.878510        -0.460685   -0.572432   \n",
       "1      -0.546375    1.294586       -0.878510        -0.460685   -0.572432   \n",
       "2      -0.546375   -0.830540        1.225511        -0.460685   -0.572432   \n",
       "3      -0.546375    1.294586       -0.878510         2.335415   -0.572432   \n",
       "4       1.986041   -0.830540        1.225511        -0.460685   -0.572432   \n",
       "\n",
       "   ...  hour_of_day_14  hour_of_day_15  hour_of_day_16  hour_of_day_17  \\\n",
       "0  ...       -0.219492       -0.221412       -0.218379       -0.227212   \n",
       "1  ...       -0.219492       -0.221412       -0.218379       -0.227212   \n",
       "2  ...       -0.219492       -0.221412       -0.218379       -0.227212   \n",
       "3  ...       -0.219492       -0.221412       -0.218379       -0.227212   \n",
       "4  ...       -0.219492       -0.221412       -0.218379       -0.227212   \n",
       "\n",
       "   hour_of_day_18  hour_of_day_19  hour_of_day_20  hour_of_day_21  \\\n",
       "0       -0.219370       -0.217396       -0.207454       -0.211514   \n",
       "1       -0.219370       -0.217396       -0.207454       -0.211514   \n",
       "2        4.926678       -0.217396       -0.207454       -0.211514   \n",
       "3       -0.219370       -0.217396       -0.207454       -0.211514   \n",
       "4       -0.219370       -0.217396       -0.207454       -0.211514   \n",
       "\n",
       "   hour_of_day_22  hour_of_day_23  \n",
       "0       -0.215877        -0.21439  \n",
       "1       -0.215877        -0.21439  \n",
       "2       -0.215877        -0.21439  \n",
       "3       -0.215877        -0.21439  \n",
       "4       -0.215877        -0.21439  \n",
       "\n",
       "[5 rows x 227 columns]"
      ]
     },
     "execution_count": 5,
     "metadata": {},
     "output_type": "execute_result"
    }
   ],
   "source": [
    "# Scale Features\n",
    "\n",
    "Xf_train_scaled, scaler = scale_features(Xf_train_bal, method='standard')\n",
    "Xf_train_scaled_df = pd.DataFrame(Xf_train_scaled, columns=Xf.columns)\n",
    "Xf_train_scaled_df.head()\n",
    "\n",
    "Xf_test_scaled = scaler.transform(Xf_test)\n",
    "Xf_test_scaled_df = pd.DataFrame(Xf_test_scaled, columns=Xf.columns)\n",
    "Xf_test_scaled_df.head()"
   ]
  },
  {
   "cell_type": "code",
   "execution_count": 6,
   "id": "dddc6262",
   "metadata": {},
   "outputs": [
    {
     "name": "stdout",
     "output_type": "stream",
     "text": [
      "\n",
      "Training Logistic Regression...\n",
      "\n",
      "Training Random Forest...\n",
      "\n",
      "Training XGBoost...\n"
     ]
    },
    {
     "name": "stderr",
     "output_type": "stream",
     "text": [
      "c:\\Users\\mike\\AppData\\Local\\Programs\\Python\\Python313\\Lib\\site-packages\\xgboost\\training.py:183: UserWarning: [01:12:57] WARNING: C:\\actions-runner\\_work\\xgboost\\xgboost\\src\\learner.cc:738: \n",
      "Parameters: { \"use_label_encoder\" } are not used.\n",
      "\n",
      "  bst.update(dtrain, iteration=i, fobj=obj)\n"
     ]
    },
    {
     "name": "stdout",
     "output_type": "stream",
     "text": [
      "\n",
      "📊 Model Comparison:\n",
      "\n",
      "                 Model  Accuracy  Precision    Recall  F1 Score       AUC\n",
      "0        Random Forest  0.955564    0.99666  0.527208  0.689623  0.758412\n",
      "1              XGBoost  0.952553    0.93625  0.529329  0.676298  0.769169\n",
      "2  Logistic Regression  0.666314    0.17405  0.684452  0.277527  0.746324\n"
     ]
    }
   ],
   "source": [
    "from sklearn.linear_model import LogisticRegression\n",
    "from sklearn.ensemble import RandomForestClassifier, GradientBoostingClassifier\n",
    "from sklearn.svm import SVC\n",
    "from xgboost import XGBClassifier\n",
    "from sklearn.neighbors import KNeighborsClassifier\n",
    "from sklearn.metrics import accuracy_score, precision_score, recall_score, f1_score, roc_auc_score\n",
    "import pandas as pd\n",
    "\n",
    "# Define models to try\n",
    "models = {\n",
    "    \"Logistic Regression\": LogisticRegression(random_state=42, max_iter=1000),\n",
    "    \"Random Forest\": RandomForestClassifier(random_state=42),\n",
    "    \"XGBoost\": XGBClassifier(random_state=42, use_label_encoder=False, eval_metric='logloss'),\n",
    "}\n",
    "\n",
    "# Store results\n",
    "results = []\n",
    "\n",
    "for name, model in models.items():\n",
    "    print(f\"\\nTraining {name}...\")\n",
    "    \n",
    "    # Train model\n",
    "    model.fit(Xf_train_scaled, yf_train_bal)\n",
    "    \n",
    "    # Predict\n",
    "    y_pred = model.predict(Xf_test_scaled)\n",
    "    y_proba = model.predict_proba(Xf_test_scaled)[:, 1] if hasattr(model, \"predict_proba\") else None\n",
    "    \n",
    "    # Evaluate\n",
    "    acc = accuracy_score(yf_test, y_pred)\n",
    "    prec = precision_score(yf_test, y_pred, zero_division=0)\n",
    "    rec = recall_score(yf_test, y_pred)\n",
    "    f1 = f1_score(yf_test, y_pred)\n",
    "    auc = roc_auc_score(yf_test, y_proba) if y_proba is not None else \"N/A\"\n",
    "    \n",
    "    results.append({\n",
    "        \"Model\": name,\n",
    "        \"Accuracy\": acc,\n",
    "        \"Precision\": prec,\n",
    "        \"Recall\": rec,\n",
    "        \"F1 Score\": f1,\n",
    "        \"AUC\": auc\n",
    "    })\n",
    "\n",
    "# Convert to DataFrame\n",
    "results_df = pd.DataFrame(results).sort_values(by=\"F1 Score\", ascending=False)\n",
    "print(\"\\n📊 Model Comparison:\\n\")\n",
    "print(results_df.reset_index(drop=True))\n"
   ]
  },
  {
   "cell_type": "code",
   "execution_count": 7,
   "id": "9352a11d",
   "metadata": {},
   "outputs": [
    {
     "data": {
      "image/png": "[encoded data removed]",
      "text/plain": [
       "<Figure size 1200x600 with 1 Axes>"
      ]
     },
     "metadata": {},
     "output_type": "display_data"
    }
   ],
   "source": [
    "import matplotlib.pyplot as plt\n",
    "import seaborn as sns\n",
    "\n",
    "# Assuming results_df is your model comparison DataFrame\n",
    "metrics = ['Accuracy', 'Precision', 'Recall', 'F1 Score', 'AUC']\n",
    "results_melted = results_df.melt(id_vars='Model', value_vars=metrics, var_name='Metric', value_name='Score')\n",
    "\n",
    "plt.figure(figsize=(12, 6))\n",
    "sns.barplot(data=results_melted, x='Metric', y='Score', hue='Model')\n",
    "plt.title('Model Performance Comparison')\n",
    "plt.ylim(0, 1)\n",
    "plt.show()\n"
   ]
  },
  {
   "cell_type": "code",
   "execution_count": 10,
   "id": "75148252",
   "metadata": {},
   "outputs": [
    {
     "data": {
      "image/png": "[encoded data removed]",
      "text/plain": [
       "<Figure size 800x600 with 1 Axes>"
      ]
     },
     "metadata": {},
     "output_type": "display_data"
    }
   ],
   "source": [
    "from sklearn.metrics import roc_curve, auc\n",
    "\n",
    "plt.figure(figsize=(8,6))\n",
    "\n",
    "for name, model in models.items():\n",
    "    y_proba = model.predict_proba(Xf_test_scaled)[:, 1]\n",
    "    fpr, tpr, _ = roc_curve(yf_test, y_proba)\n",
    "    roc_auc = auc(fpr, tpr)\n",
    "    plt.plot(fpr, tpr, label=f'{name} (AUC = {roc_auc:.2f})')\n",
    "\n",
    "plt.plot([0,1], [0,1], 'k--')\n",
    "plt.title('ROC Curve Comparison')\n",
    "plt.xlabel('False Positive Rate')\n",
    "plt.ylabel('True Positive Rate')\n",
    "plt.legend(loc='lower right')\n",
    "plt.show()\n"
   ]
  },
  {
   "cell_type": "code",
   "execution_count": null,
   "id": "0e8a12cb",
   "metadata": {},
   "outputs": [
    {
     "name": "stdout",
     "output_type": "stream",
     "text": [
      "Class\n",
      "0    284315\n",
      "1       492\n",
      "Name: count, dtype: int64\n"
     ]
    }
   ],
   "source": [
    "# Processing for CreditCard data\n",
    "import pandas as pd\n",
    "from sklearn.model_selection import train_test_split\n",
    "from sklearn.preprocessing import StandardScaler\n",
    "from imblearn.over_sampling import SMOTE\n",
    "\n",
    "# Load the dataset\n",
    "credit_df = pd.read_csv(\"../data/raw/creditcard.csv\")\n",
    "\n",
    "\n",
    "# Check class distribution\n",
    "print(credit_df['Class'].value_counts())\n",
    "\n"
   ]
  },
  {
   "cell_type": "code",
   "execution_count": 28,
   "id": "63c0a86d",
   "metadata": {},
   "outputs": [
    {
     "name": "stdout",
     "output_type": "stream",
     "text": [
      "Final training set shape: (454902, 30)\n",
      "Final test set shape: (56962, 30)\n",
      "Resampled class distribution: Class\n",
      "0    227451\n",
      "1    227451\n",
      "Name: count, dtype: int64\n"
     ]
    }
   ],
   "source": [
    "\n",
    "Xc = credit_df.drop(columns=['Class'])  # Features\n",
    "yc = credit_df['Class']                # Target\n",
    "\n",
    "# Train-Test Split\n",
    "\n",
    "Xc_train, Xc_test, yc_train, yc_test = train_test_split(\n",
    "    Xc, yc, test_size=0.2, stratify=yc, random_state=42\n",
    ")\n",
    "\n",
    "# Handle Class Imbalance (SMOTE)\n",
    "\n",
    "Xc_train_bal, yc_train_bal = handle_imbalance(Xc_train, yc_train)\n",
    "\n",
    "# Scale Features\n",
    "def scale_cr_features(X_train, X_test, method=\"standard\"):\n",
    "    if method == \"standard\":\n",
    "        scaler = StandardScaler()\n",
    "    elif method == \"minmax\":\n",
    "        scaler = MinMaxScaler()\n",
    "    else:\n",
    "        raise ValueError(\"Invalid method. Choose 'standard' or 'minmax'.\")\n",
    "\n",
    "    X_train_scaled = scaler.fit_transform(X_train)\n",
    "    X_test_scaled = scaler.transform(X_test)\n",
    "\n",
    "    return X_train_scaled, X_test_scaled, scaler\n",
    "\n",
    "Xc_train_scaled, Xc_test_scaled, scaler = scale_cr_features(Xc_train_bal, Xc_test)\n",
    "\n",
    "# Convert to DataFrames again for easier exploration\n",
    "Xc_train_scaled_df = pd.DataFrame(Xc_train_scaled, columns=Xc.columns)\n",
    "Xc_test_scaled_df = pd.DataFrame(Xc_test_scaled, columns=Xc.columns)\n",
    "\n",
    "# Final Check\n",
    "print(\"Final training set shape:\", Xc_train_scaled_df.shape)\n",
    "print(\"Final test set shape:\", Xc_test_scaled_df.shape)\n",
    "print(\"Resampled class distribution:\", pd.Series(yc_train_bal).value_counts())\n",
    "\n"
   ]
  },
  {
   "cell_type": "code",
   "execution_count": null,
   "id": "d63e7a3b",
   "metadata": {},
   "outputs": [],
   "source": [
    "# Save the preprocessed data\n",
    "import joblib\n",
    "\n",
    "# For fraud data\n",
    "joblib.dump(Xf_train_scaled, 'Xf_train_scaled.pkl')\n",
    "joblib.dump(Xf_test_scaled, 'Xf_test_scaled.pkl')\n",
    "joblib.dump(yf_train_bal, 'yf_train_bal.pkl')\n",
    "joblib.dump(yf_test, 'yf_test.pkl')\n",
    "\n",
    "# Do the same for creditcard data\n",
    "joblib.dump(Xc_train_scaled, 'Xc_train_scaled.pkl')\n",
    "joblib.dump(Xc_test_scaled, 'Xc_test_scaled.pkl')\n",
    "joblib.dump(yc_train_bal, 'yc_train_bal.pkl')\n",
    "joblib.dump(yc_test, 'yc_test.pkl')\n",
    "\n",
    "# Save scalers if you used any\n",
    "joblib.dump(scaler, 'scaler.pkl')\n"
   ]
  }
 ],
 "metadata": {
  "kernelspec": {
   "display_name": "Python 3",
   "language": "python",
   "name": "python3"
  },
  "language_info": {
   "codemirror_mode": {
    "name": "ipython",
    "version": 3
   },
   "file_extension": ".py",
   "mimetype": "text/x-python",
   "name": "python",
   "nbconvert_exporter": "python",
   "pygments_lexer": "ipython3",
   "version": "3.13.0"
  }
 },
 "nbformat": 4,
 "nbformat_minor": 5
}
